{
 "cells": [
  {
   "cell_type": "markdown",
   "metadata": {},
   "source": [
    "# Projet maison n° 3"
   ]
  },
  {
   "cell_type": "code",
   "execution_count": 97,
   "metadata": {},
   "outputs": [],
   "source": [
    "# imports\n",
    "import pandas as pd"
   ]
  },
  {
   "cell_type": "markdown",
   "metadata": {},
   "source": [
    "## 1. US baby names\n",
    "\n",
    "On va s'intéresser au dataset **National data** de la SSA : https://www.ssa.gov/oact/babynames/limits.html\n",
    "\n",
    "1. Télécharger le dataset des prénoms US : https://www.ssa.gov/oact/babynames/names.zip\n",
    "\n",
    "Lire la documentation associée."
   ]
  },
  {
   "cell_type": "code",
   "execution_count": 98,
   "metadata": {},
   "outputs": [],
   "source": [
    "#on telecharge un jeu de données au format zip depuis une url et on extrait tout vers le dossier spécifié\n",
    "import requests\n",
    "from zipfile import ZipFile\n",
    "\n",
    "def get_and_unzip_file_from_url(url,zip_name,directory_name):\n",
    "    req = requests.get(url, verify=False)\n",
    "    with open(zip_name,'wb') as output_file:\n",
    "        output_file.write(req.content)\n",
    "    with ZipFile(zip_name, 'r') as zipObj:\n",
    "        zipObj.extractall(directory_name)"
   ]
  },
  {
   "cell_type": "code",
   "execution_count": 99,
   "metadata": {},
   "outputs": [
    {
     "name": "stderr",
     "output_type": "stream",
     "text": [
      "/Users/thomas/opt/anaconda3/lib/python3.8/site-packages/urllib3/connectionpool.py:981: InsecureRequestWarning: Unverified HTTPS request is being made to host 'www.ssa.gov'. Adding certificate verification is strongly advised. See: https://urllib3.readthedocs.io/en/latest/advanced-usage.html#ssl-warnings\n",
      "  warnings.warn(\n"
     ]
    }
   ],
   "source": [
    "get_and_unzip_file_from_url('https://www.ssa.gov/oact/babynames/names.zip','US_baby_names.zip','US_baby_names')"
   ]
  },
  {
   "cell_type": "markdown",
   "metadata": {},
   "source": [
    "2. Implémenter une fonction Python `df_names_us()` qui produit un unique DataFrame avec tous les fichiers en utilisant **pandas** (par ex. avec la fonction `pandas.concat()`), pas de bash :)\n",
    "\n",
    "Ordre et noms des colonnes du DataFrame : \"year\", \"name\", \"gender\", \"births\"\n",
    "\n",
    "Le DataFrame doit être trié selon l'année croissante puis selon l'ordre défini dans les différents fichiers (voir la documentation du dataset)."
   ]
  },
  {
   "cell_type": "code",
   "execution_count": 100,
   "metadata": {},
   "outputs": [],
   "source": [
    "import os\n",
    "import re\n",
    "\n",
    "def df_names_us():\n",
    "    df = pd.DataFrame()\n",
    "    for file in os.listdir(\"US_baby_names\"):\n",
    "        if file.endswith(\".txt\"):\n",
    "            year = re.findall(\"[0-9]+\", file)#year est un array de string\n",
    "            df_by_year = pd.read_csv(\"US_baby_names/\"+file, \n",
    "                                     sep=',', \n",
    "                                     names=[\"name\", \"gender\", \"births\"]\n",
    "                                    )\n",
    "            df_by_year[\"year\"] = int(year[0])\n",
    "            df = pd.concat([df, df_by_year], ignore_index=True)\n",
    "\n",
    "    return df.sort_values(by=['year','gender','births','name'],ascending=[True,True,False,True],ignore_index=True).reindex(columns=[\"year\", \"name\", \"gender\", \"births\"])# trie les ligne par année et réordonne les colonnes"
   ]
  },
  {
   "cell_type": "markdown",
   "metadata": {},
   "source": [
    "## 2. Prénoms français"
   ]
  },
  {
   "cell_type": "markdown",
   "metadata": {},
   "source": [
    "On va s'intéresser au dataset **Fichiers France hors Mayotte** de l'INSEE :  https://www.insee.fr/fr/statistiques/2540004/\n",
    "\n",
    "L'idée est de charger les données et ensuite de les conformer au DataFrame des prénoms US. Ainsi, toute manipulation sur le DataFrame des prénoms US pourra être directement réutilisée avec le DataFrame des prénoms français.\n",
    " \n",
    "1. Télécharger le dataset des prénoms français : https://www.insee.fr/fr/statistiques/fichier/2540004/nat2021_csv.zip\n",
    "\n",
    "\n",
    "Lire la documentation, ça peut être utile...\n",
    " "
   ]
  },
  {
   "cell_type": "code",
   "execution_count": 101,
   "metadata": {},
   "outputs": [
    {
     "name": "stderr",
     "output_type": "stream",
     "text": [
      "/Users/thomas/opt/anaconda3/lib/python3.8/site-packages/urllib3/connectionpool.py:981: InsecureRequestWarning: Unverified HTTPS request is being made to host 'www.insee.fr'. Adding certificate verification is strongly advised. See: https://urllib3.readthedocs.io/en/latest/advanced-usage.html#ssl-warnings\n",
      "  warnings.warn(\n"
     ]
    }
   ],
   "source": [
    "get_and_unzip_file_from_url('https://www.insee.fr/fr/statistiques/fichier/2540004/nat2021_csv.zip','Prenom_Francais.zip','Prenom_Francais')"
   ]
  },
  {
   "cell_type": "markdown",
   "metadata": {},
   "source": [
    "2. Implémenter une fonction `df_names_fr()` qui produit un DataFrame avec les prénoms français en prenant le DataFrame des prénoms US comme modèle :\n",
    " \n",
    " - Même ordre et mêmes noms des colonnes : \"year\", \"name\", \"gender\", \"births\"\n",
    " - Mêmes dtypes pour les colonnes\n",
    " - Mêmes valeurs pour la colonne \"gender\"\n",
    " - Seuls les prénoms de 2 caractères et plus sont conservés\n",
    " - La casse des prénoms doit être identique : initiales en majuscule, autres lettres en minuscule\n",
    " - Les lignes avec des données inutilisables doivent être supprimées\n",
    " - Les données sont triées à l'identique : year (↑), puis gender (↑), puis births (↓) et enfin name (↑)\n",
    " - L'index du DataFrame doit aller de 0 à N-1"
   ]
  },
  {
   "cell_type": "code",
   "execution_count": 102,
   "metadata": {},
   "outputs": [],
   "source": [
    "# names fr\n",
    "def df_names_fr():\n",
    "    df = pd.DataFrame()\n",
    "    for file in os.listdir(\"Prenom_Francais\"):\n",
    "        if file.endswith(\".csv\"):\n",
    "            df = ( pd.read_csv(\"Prenom_Francais/\"+file, \n",
    "                            sep=';',\n",
    "                            #names=[\"gender\", \"name\", \"year\", \"births\"],\n",
    "                            #header=0,\n",
    "                            na_values=[\"XXXX\",\"_PRENOMS_RARES\"],\n",
    "                            keep_default_na=False #pour eviter de supprimer le prénon Na\n",
    "                           )\n",
    "                  #Même ordre et mêmes noms des colonnes : \"year\", \"name\", \"gender\", \"births\"\n",
    "                  .rename(columns={\"sexe\": \"gender\", \"preusuel\": \"name\", \"annais\": \"year\", \"nombre\": \"births\"})\n",
    "                  .reindex(columns=[\"year\", \"name\", \"gender\", \"births\"])\n",
    "                  \n",
    "                  #Les lignes avec des données inutilisables doivent être supprimées\n",
    "                  .dropna()\n",
    "                  \n",
    "                  #Mêmes valeurs pour la colonne \"gender\"\n",
    "                  .assign(gender=lambda x: x.gender.map({2: 'F', 1: 'M'}))\n",
    "                  \n",
    "                  #Seuls les prénoms de 2 caractères et plus sont conservés\n",
    "                  .query(\"name.str.len() >= 2\", engine=\"python\") \n",
    "                  \n",
    "                  #La casse des prénoms doit être identique : initiales en majuscule, autres lettres en minuscule\n",
    "                  .assign(name=lambda x: x.name.str.title())# on n'utilise pas .capitalize() car on veut que chaque nom d'un nom composé ait une capitale\n",
    "                  \n",
    "                  #Mêmes dtypes pour les colonnes\n",
    "                  .astype({\"gender\":\"str\", \"name\":\"str\", \"year\":\"uint16\", \"births\":\"uint16\"})\n",
    "                  \n",
    "                  #Mêmes dtypes pour les colonnes L'index du DataFrame doit aller de 0 à N-1\n",
    "                  .sort_values(by=['year','gender','births','name'], ascending=[True,True,False,True], ignore_index=True)\n",
    "                 )\n",
    "            \n",
    "    return df"
   ]
  },
  {
   "cell_type": "markdown",
   "metadata": {},
   "source": [
    "## 3. Taux de change\n",
    "\n",
    "On va s'intéresser au dataset des cours des devises de la Banque de France :  http://webstat.banque-france.fr/fr/browseBox.do?node=5385566\n",
    "\n",
    "Les données sont dans le fichier \"Webstat_Export.csv\".\n",
    "\n",
    "L'idée est de charger les données, de les nettoyer et de pouvoir accéder aux cours de certaines devises à partir de leur code ISO3. On retiendra uniquement les colonnes se terminant effectivement par un code ISO3 entre parenthèses. Par ex., \"Dollar des Etats-Unis (USD)\".\n",
    "\n",
    "Implémenter une fonction `df_taux_change()` qui produit un DataFrame avec les taux de change par date pour une liste de codes ISO3 de devises passée en argument. L'index du DataFrame doit correspondre aux dates (voir la fonction `pd.to_datetime()` avec le format`\"%d/%m/%Y\"`) et doit être trié par ordre croissant. Les colonnes du DataFrame doivent correspondre aux devises sélectionnées."
   ]
  },
  {
   "cell_type": "code",
   "execution_count": 103,
   "metadata": {},
   "outputs": [],
   "source": [
    "# taux de change\n",
    "def df_taux_change(devises):\n",
    "    df = ( pd.read_csv(\"Webstat_Export.csv\",\n",
    "                       sep=';',\n",
    "                       skiprows=[0,1,3,4,5],#supprimes les lignes qui ne nous interessent pas\n",
    "                                            #on ne garde que le ligne 2 car c'est la seule à contenir tous les ISO\n",
    "                       na_values=[\"-\"],\n",
    "                       index_col=0,\n",
    "                       decimal=',',\n",
    "                       parse_dates=True\n",
    "                      )\n",
    "          #renomme les colones en fonction du code ISO\n",
    "          .rename(columns=lambda x: re.findall(\"[A-Z]{3}\", x)[0])\n",
    "          #ordone par date des index ordre croissant\n",
    "          .sort_index()\n",
    "          #remplace les valeur na\n",
    "          .fillna(0)\n",
    "         )\n",
    "    #df = pd.DataFrame([], columns=devises)\n",
    "    return df.loc[:,devises]"
   ]
  },
  {
   "cell_type": "markdown",
   "metadata": {},
   "source": [
    "### Tests"
   ]
  },
  {
   "cell_type": "code",
   "execution_count": 104,
   "metadata": {},
   "outputs": [],
   "source": [
    "import unittest\n",
    "\n",
    "class Session3Tests(unittest.TestCase):\n",
    "    def test_df_names_us(self):\n",
    "        df = df_names_us()\n",
    "        # colonnes\n",
    "        self.assertEqual(list(df.columns), [\"year\", \"name\", \"gender\", \"births\"])\n",
    "        # lignes\n",
    "        self.assertEqual(len(df), 2052781)\n",
    "        # index\n",
    "        self.assertTrue(isinstance(df.index, pd.core.indexes.range.RangeIndex))\n",
    "        # test NaN\n",
    "        self.assertTrue(df.loc[df.isnull().any(axis=1)].empty)\n",
    "        \n",
    "    def test_df_names_fr(self):\n",
    "        df = df_names_fr()\n",
    "        # colonnes\n",
    "        self.assertEqual(list(df.columns), [\"year\", \"name\", \"gender\", \"births\"])\n",
    "        # lignes\n",
    "        self.assertEqual(len(df), 648330)\n",
    "        # index\n",
    "        self.assertTrue(isinstance(df.index, pd.RangeIndex))\n",
    "        # test names\n",
    "        self.assertTrue(df.loc[df.name.str.contains(r\"^[A-Z]+$\")].empty)\n",
    "        self.assertTrue(df.loc[df.name.str.contains(r\"-[a-z]+$\")].empty)\n",
    "        # test gender\n",
    "        self.assertEqual(len(df), len(df.loc[df.gender==\"F\"]) + len(df.loc[df.gender=='M']))\n",
    "        # test NaN\n",
    "        self.assertTrue(df.loc[df.isnull().any(axis=1)].empty)\n",
    "\n",
    "    def test_df_taux_change(self):\n",
    "        df = df_taux_change([\"CHF\", \"GBP\", \"USD\"])\n",
    "        # colonnes\n",
    "        self.assertEqual(list(df.columns), [\"CHF\", \"GBP\", \"USD\"])\n",
    "        # index\n",
    "        self.assertTrue(isinstance(df.index, pd.DatetimeIndex))\n",
    "        # index trié\n",
    "        self.assertEqual(list(df.index.argsort()), list(range(len(df))))\n",
    "        # types taux\n",
    "        self.assertTrue((df.dtypes == float).all())\n",
    "        # test NaN\n",
    "        self.assertTrue(df.loc[df.isnull().any(axis=1)].empty)"
   ]
  },
  {
   "cell_type": "code",
   "execution_count": 105,
   "metadata": {},
   "outputs": [],
   "source": [
    "# run tests\n",
    "def run_tests():\n",
    "    test_suite = unittest.makeSuite(Session3Tests)\n",
    "    runner = unittest.TextTestRunner(verbosity=2)\n",
    "    runner.run(test_suite)"
   ]
  },
  {
   "cell_type": "code",
   "execution_count": 106,
   "metadata": {},
   "outputs": [
    {
     "name": "stderr",
     "output_type": "stream",
     "text": [
      "test_df_names_fr (__main__.Session3Tests) ... ok\n",
      "test_df_names_us (__main__.Session3Tests) ... ok\n",
      "test_df_taux_change (__main__.Session3Tests) ... ok\n",
      "\n",
      "----------------------------------------------------------------------\n",
      "Ran 3 tests in 6.455s\n",
      "\n",
      "OK\n"
     ]
    }
   ],
   "source": [
    "# run tests\n",
    "run_tests()"
   ]
  },
  {
   "cell_type": "code",
   "execution_count": null,
   "metadata": {},
   "outputs": [],
   "source": []
  }
 ],
 "metadata": {
  "kernelspec": {
   "display_name": "Python 3",
   "language": "python",
   "name": "python3"
  },
  "language_info": {
   "codemirror_mode": {
    "name": "ipython",
    "version": 3
   },
   "file_extension": ".py",
   "mimetype": "text/x-python",
   "name": "python",
   "nbconvert_exporter": "python",
   "pygments_lexer": "ipython3",
   "version": "3.8.8"
  }
 },
 "nbformat": 4,
 "nbformat_minor": 4
}
