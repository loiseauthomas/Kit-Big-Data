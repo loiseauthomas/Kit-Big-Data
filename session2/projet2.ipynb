{
 "cells": [
  {
   "cell_type": "markdown",
   "metadata": {},
   "source": [
    "\n",
    "# Projet Maison 2"
   ]
  },
  {
   "cell_type": "code",
   "execution_count": 1,
   "metadata": {
    "scrolled": false
   },
   "outputs": [],
   "source": [
    "# import des modules usuels\n",
    "import numpy as np\n",
    "import pandas as pd\n",
    "\n",
    "# options d'affichage\n",
    "pd.set_option(\"display.min_rows\", 16)"
   ]
  },
  {
   "cell_type": "code",
   "execution_count": 2,
   "metadata": {},
   "outputs": [
    {
     "data": {
      "text/html": [
       "<div>\n",
       "<style scoped>\n",
       "    .dataframe tbody tr th:only-of-type {\n",
       "        vertical-align: middle;\n",
       "    }\n",
       "\n",
       "    .dataframe tbody tr th {\n",
       "        vertical-align: top;\n",
       "    }\n",
       "\n",
       "    .dataframe thead th {\n",
       "        text-align: right;\n",
       "    }\n",
       "</style>\n",
       "<table border=\"1\" class=\"dataframe\">\n",
       "  <thead>\n",
       "    <tr style=\"text-align: right;\">\n",
       "      <th></th>\n",
       "      <th>Code Postal</th>\n",
       "      <th>Commune</th>\n",
       "      <th>Département</th>\n",
       "      <th>Région</th>\n",
       "      <th>Statut</th>\n",
       "      <th>Altitude Moyenne</th>\n",
       "      <th>Superficie</th>\n",
       "      <th>Population</th>\n",
       "      <th>geo_point_2d</th>\n",
       "      <th>geo_shape</th>\n",
       "    </tr>\n",
       "    <tr>\n",
       "      <th>Code INSEE</th>\n",
       "      <th></th>\n",
       "      <th></th>\n",
       "      <th></th>\n",
       "      <th></th>\n",
       "      <th></th>\n",
       "      <th></th>\n",
       "      <th></th>\n",
       "      <th></th>\n",
       "      <th></th>\n",
       "      <th></th>\n",
       "    </tr>\n",
       "  </thead>\n",
       "  <tbody>\n",
       "    <tr>\n",
       "      <th>31080</th>\n",
       "      <td>31350</td>\n",
       "      <td>BOULOGNE-SUR-GESSE</td>\n",
       "      <td>HAUTE-GARONNE</td>\n",
       "      <td>MIDI-PYRENEES</td>\n",
       "      <td>Chef-lieu canton</td>\n",
       "      <td>301.0</td>\n",
       "      <td>2470.0</td>\n",
       "      <td>1.6</td>\n",
       "      <td>43.2904403081, 0.650641474176</td>\n",
       "      <td>{\"type\": \"Polygon\", \"coordinates\": [[[0.671852...</td>\n",
       "    </tr>\n",
       "    <tr>\n",
       "      <th>11143</th>\n",
       "      <td>11510</td>\n",
       "      <td>FEUILLA</td>\n",
       "      <td>AUDE</td>\n",
       "      <td>LANGUEDOC-ROUSSILLON</td>\n",
       "      <td>Commune simple</td>\n",
       "      <td>314.0</td>\n",
       "      <td>2426.0</td>\n",
       "      <td>0.1</td>\n",
       "      <td>42.9291375888, 2.90138923544</td>\n",
       "      <td>{\"type\": \"Polygon\", \"coordinates\": [[[2.906996...</td>\n",
       "    </tr>\n",
       "    <tr>\n",
       "      <th>43028</th>\n",
       "      <td>43200</td>\n",
       "      <td>BESSAMOREL</td>\n",
       "      <td>HAUTE-LOIRE</td>\n",
       "      <td>AUVERGNE</td>\n",
       "      <td>Commune simple</td>\n",
       "      <td>888.0</td>\n",
       "      <td>743.0</td>\n",
       "      <td>0.4</td>\n",
       "      <td>45.1306448726, 4.07952494849</td>\n",
       "      <td>{\"type\": \"Polygon\", \"coordinates\": [[[4.091674...</td>\n",
       "    </tr>\n",
       "    <tr>\n",
       "      <th>78506</th>\n",
       "      <td>78660</td>\n",
       "      <td>PRUNAY-EN-YVELINES</td>\n",
       "      <td>YVELINES</td>\n",
       "      <td>ILE-DE-FRANCE</td>\n",
       "      <td>Commune simple</td>\n",
       "      <td>155.0</td>\n",
       "      <td>2717.0</td>\n",
       "      <td>0.8</td>\n",
       "      <td>48.5267627187, 1.80513972814</td>\n",
       "      <td>{\"type\": \"Polygon\", \"coordinates\": [[[1.829610...</td>\n",
       "    </tr>\n",
       "    <tr>\n",
       "      <th>84081</th>\n",
       "      <td>84310</td>\n",
       "      <td>MORIERES-LES-AVIGNON</td>\n",
       "      <td>VAUCLUSE</td>\n",
       "      <td>PROVENCE-ALPES-COTE D'AZUR</td>\n",
       "      <td>Commune simple</td>\n",
       "      <td>49.0</td>\n",
       "      <td>1042.0</td>\n",
       "      <td>7.6</td>\n",
       "      <td>43.9337788848, 4.90875878315</td>\n",
       "      <td>{\"type\": \"Polygon\", \"coordinates\": [[[4.927176...</td>\n",
       "    </tr>\n",
       "  </tbody>\n",
       "</table>\n",
       "</div>"
      ],
      "text/plain": [
       "           Code Postal               Commune    Département  \\\n",
       "Code INSEE                                                    \n",
       "31080            31350    BOULOGNE-SUR-GESSE  HAUTE-GARONNE   \n",
       "11143            11510               FEUILLA           AUDE   \n",
       "43028            43200            BESSAMOREL    HAUTE-LOIRE   \n",
       "78506            78660    PRUNAY-EN-YVELINES       YVELINES   \n",
       "84081            84310  MORIERES-LES-AVIGNON       VAUCLUSE   \n",
       "\n",
       "                                Région            Statut  Altitude Moyenne  \\\n",
       "Code INSEE                                                                   \n",
       "31080                    MIDI-PYRENEES  Chef-lieu canton             301.0   \n",
       "11143             LANGUEDOC-ROUSSILLON    Commune simple             314.0   \n",
       "43028                         AUVERGNE    Commune simple             888.0   \n",
       "78506                    ILE-DE-FRANCE    Commune simple             155.0   \n",
       "84081       PROVENCE-ALPES-COTE D'AZUR    Commune simple              49.0   \n",
       "\n",
       "            Superficie  Population                   geo_point_2d  \\\n",
       "Code INSEE                                                          \n",
       "31080           2470.0         1.6  43.2904403081, 0.650641474176   \n",
       "11143           2426.0         0.1   42.9291375888, 2.90138923544   \n",
       "43028            743.0         0.4   45.1306448726, 4.07952494849   \n",
       "78506           2717.0         0.8   48.5267627187, 1.80513972814   \n",
       "84081           1042.0         7.6   43.9337788848, 4.90875878315   \n",
       "\n",
       "                                                    geo_shape  \n",
       "Code INSEE                                                     \n",
       "31080       {\"type\": \"Polygon\", \"coordinates\": [[[0.671852...  \n",
       "11143       {\"type\": \"Polygon\", \"coordinates\": [[[2.906996...  \n",
       "43028       {\"type\": \"Polygon\", \"coordinates\": [[[4.091674...  \n",
       "78506       {\"type\": \"Polygon\", \"coordinates\": [[[1.829610...  \n",
       "84081       {\"type\": \"Polygon\", \"coordinates\": [[[4.927176...  "
      ]
     },
     "execution_count": 2,
     "metadata": {},
     "output_type": "execute_result"
    }
   ],
   "source": [
    "# chargement et traitement des données\n",
    "GEO = pd.read_csv(\"correspondance-code-insee-code-postal.csv\",\n",
    "                   sep=';',\n",
    "                   usecols=range(11),\n",
    "                   index_col=\"Code INSEE\")\n",
    "\n",
    "GEO.head()"
   ]
  },
  {
   "cell_type": "markdown",
   "metadata": {},
   "source": [
    "**Partie A**\n",
    "\n",
    "- Compléter le chargement des données en ajoutant au dataframe `GEO`\n",
    "    - les colonnes \"lat\" et \"lon\" avec la latitude et la longitude des communes\n",
    "    - une colonne \"cp_ville\" avec le Code Postal + un espace + et le nom de la Commune\n",
    "    "
   ]
  },
  {
   "cell_type": "code",
   "execution_count": 3,
   "metadata": {
    "scrolled": true
   },
   "outputs": [
    {
     "data": {
      "text/html": [
       "<div>\n",
       "<style scoped>\n",
       "    .dataframe tbody tr th:only-of-type {\n",
       "        vertical-align: middle;\n",
       "    }\n",
       "\n",
       "    .dataframe tbody tr th {\n",
       "        vertical-align: top;\n",
       "    }\n",
       "\n",
       "    .dataframe thead th {\n",
       "        text-align: right;\n",
       "    }\n",
       "</style>\n",
       "<table border=\"1\" class=\"dataframe\">\n",
       "  <thead>\n",
       "    <tr style=\"text-align: right;\">\n",
       "      <th></th>\n",
       "      <th>Code Postal</th>\n",
       "      <th>Commune</th>\n",
       "      <th>Département</th>\n",
       "      <th>Région</th>\n",
       "      <th>Statut</th>\n",
       "      <th>Altitude Moyenne</th>\n",
       "      <th>Superficie</th>\n",
       "      <th>Population</th>\n",
       "      <th>geo_point_2d</th>\n",
       "      <th>geo_shape</th>\n",
       "      <th>lat</th>\n",
       "      <th>lon</th>\n",
       "      <th>cp_ville</th>\n",
       "    </tr>\n",
       "    <tr>\n",
       "      <th>Code INSEE</th>\n",
       "      <th></th>\n",
       "      <th></th>\n",
       "      <th></th>\n",
       "      <th></th>\n",
       "      <th></th>\n",
       "      <th></th>\n",
       "      <th></th>\n",
       "      <th></th>\n",
       "      <th></th>\n",
       "      <th></th>\n",
       "      <th></th>\n",
       "      <th></th>\n",
       "      <th></th>\n",
       "    </tr>\n",
       "  </thead>\n",
       "  <tbody>\n",
       "    <tr>\n",
       "      <th>31080</th>\n",
       "      <td>31350</td>\n",
       "      <td>BOULOGNE-SUR-GESSE</td>\n",
       "      <td>HAUTE-GARONNE</td>\n",
       "      <td>MIDI-PYRENEES</td>\n",
       "      <td>Chef-lieu canton</td>\n",
       "      <td>301.0</td>\n",
       "      <td>2470.0</td>\n",
       "      <td>1.6</td>\n",
       "      <td>43.2904403081, 0.650641474176</td>\n",
       "      <td>{\"type\": \"Polygon\", \"coordinates\": [[[0.671852...</td>\n",
       "      <td>43.290440</td>\n",
       "      <td>0.650641</td>\n",
       "      <td>31350 BOULOGNE-SUR-GESSE</td>\n",
       "    </tr>\n",
       "    <tr>\n",
       "      <th>11143</th>\n",
       "      <td>11510</td>\n",
       "      <td>FEUILLA</td>\n",
       "      <td>AUDE</td>\n",
       "      <td>LANGUEDOC-ROUSSILLON</td>\n",
       "      <td>Commune simple</td>\n",
       "      <td>314.0</td>\n",
       "      <td>2426.0</td>\n",
       "      <td>0.1</td>\n",
       "      <td>42.9291375888, 2.90138923544</td>\n",
       "      <td>{\"type\": \"Polygon\", \"coordinates\": [[[2.906996...</td>\n",
       "      <td>42.929138</td>\n",
       "      <td>2.901389</td>\n",
       "      <td>11510 FEUILLA</td>\n",
       "    </tr>\n",
       "    <tr>\n",
       "      <th>43028</th>\n",
       "      <td>43200</td>\n",
       "      <td>BESSAMOREL</td>\n",
       "      <td>HAUTE-LOIRE</td>\n",
       "      <td>AUVERGNE</td>\n",
       "      <td>Commune simple</td>\n",
       "      <td>888.0</td>\n",
       "      <td>743.0</td>\n",
       "      <td>0.4</td>\n",
       "      <td>45.1306448726, 4.07952494849</td>\n",
       "      <td>{\"type\": \"Polygon\", \"coordinates\": [[[4.091674...</td>\n",
       "      <td>45.130645</td>\n",
       "      <td>4.079525</td>\n",
       "      <td>43200 BESSAMOREL</td>\n",
       "    </tr>\n",
       "    <tr>\n",
       "      <th>78506</th>\n",
       "      <td>78660</td>\n",
       "      <td>PRUNAY-EN-YVELINES</td>\n",
       "      <td>YVELINES</td>\n",
       "      <td>ILE-DE-FRANCE</td>\n",
       "      <td>Commune simple</td>\n",
       "      <td>155.0</td>\n",
       "      <td>2717.0</td>\n",
       "      <td>0.8</td>\n",
       "      <td>48.5267627187, 1.80513972814</td>\n",
       "      <td>{\"type\": \"Polygon\", \"coordinates\": [[[1.829610...</td>\n",
       "      <td>48.526763</td>\n",
       "      <td>1.805140</td>\n",
       "      <td>78660 PRUNAY-EN-YVELINES</td>\n",
       "    </tr>\n",
       "    <tr>\n",
       "      <th>84081</th>\n",
       "      <td>84310</td>\n",
       "      <td>MORIERES-LES-AVIGNON</td>\n",
       "      <td>VAUCLUSE</td>\n",
       "      <td>PROVENCE-ALPES-COTE D'AZUR</td>\n",
       "      <td>Commune simple</td>\n",
       "      <td>49.0</td>\n",
       "      <td>1042.0</td>\n",
       "      <td>7.6</td>\n",
       "      <td>43.9337788848, 4.90875878315</td>\n",
       "      <td>{\"type\": \"Polygon\", \"coordinates\": [[[4.927176...</td>\n",
       "      <td>43.933779</td>\n",
       "      <td>4.908759</td>\n",
       "      <td>84310 MORIERES-LES-AVIGNON</td>\n",
       "    </tr>\n",
       "  </tbody>\n",
       "</table>\n",
       "</div>"
      ],
      "text/plain": [
       "           Code Postal               Commune    Département  \\\n",
       "Code INSEE                                                    \n",
       "31080            31350    BOULOGNE-SUR-GESSE  HAUTE-GARONNE   \n",
       "11143            11510               FEUILLA           AUDE   \n",
       "43028            43200            BESSAMOREL    HAUTE-LOIRE   \n",
       "78506            78660    PRUNAY-EN-YVELINES       YVELINES   \n",
       "84081            84310  MORIERES-LES-AVIGNON       VAUCLUSE   \n",
       "\n",
       "                                Région            Statut  Altitude Moyenne  \\\n",
       "Code INSEE                                                                   \n",
       "31080                    MIDI-PYRENEES  Chef-lieu canton             301.0   \n",
       "11143             LANGUEDOC-ROUSSILLON    Commune simple             314.0   \n",
       "43028                         AUVERGNE    Commune simple             888.0   \n",
       "78506                    ILE-DE-FRANCE    Commune simple             155.0   \n",
       "84081       PROVENCE-ALPES-COTE D'AZUR    Commune simple              49.0   \n",
       "\n",
       "            Superficie  Population                   geo_point_2d  \\\n",
       "Code INSEE                                                          \n",
       "31080           2470.0         1.6  43.2904403081, 0.650641474176   \n",
       "11143           2426.0         0.1   42.9291375888, 2.90138923544   \n",
       "43028            743.0         0.4   45.1306448726, 4.07952494849   \n",
       "78506           2717.0         0.8   48.5267627187, 1.80513972814   \n",
       "84081           1042.0         7.6   43.9337788848, 4.90875878315   \n",
       "\n",
       "                                                    geo_shape        lat  \\\n",
       "Code INSEE                                                                 \n",
       "31080       {\"type\": \"Polygon\", \"coordinates\": [[[0.671852...  43.290440   \n",
       "11143       {\"type\": \"Polygon\", \"coordinates\": [[[2.906996...  42.929138   \n",
       "43028       {\"type\": \"Polygon\", \"coordinates\": [[[4.091674...  45.130645   \n",
       "78506       {\"type\": \"Polygon\", \"coordinates\": [[[1.829610...  48.526763   \n",
       "84081       {\"type\": \"Polygon\", \"coordinates\": [[[4.927176...  43.933779   \n",
       "\n",
       "                 lon                    cp_ville  \n",
       "Code INSEE                                        \n",
       "31080       0.650641    31350 BOULOGNE-SUR-GESSE  \n",
       "11143       2.901389               11510 FEUILLA  \n",
       "43028       4.079525            43200 BESSAMOREL  \n",
       "78506       1.805140    78660 PRUNAY-EN-YVELINES  \n",
       "84081       4.908759  84310 MORIERES-LES-AVIGNON  "
      ]
     },
     "execution_count": 3,
     "metadata": {},
     "output_type": "execute_result"
    }
   ],
   "source": [
    "# - lat, lon : latitude et longitude des communes\n",
    "GEO[['lat', 'lon']] = GEO[\"geo_point_2d\"].str.extract(\"(.*), (.*)\").astype(float)\n",
    "\n",
    "# - cp_ville : Code Postal + \" \" + \"Commune\"\n",
    "GEO['cp_ville'] = GEO[\"Code Postal\"] + \" \" + GEO[\"Commune\"]\n",
    "\n",
    "GEO.head()"
   ]
  },
  {
   "cell_type": "markdown",
   "metadata": {},
   "source": [
    "- Ecrire une fonction `search_city(lat, lon)` qui retourne le \"cp_ville\" de la commune la plus proche d'un point à partir de sa latitude et sa longitude."
   ]
  },
  {
   "cell_type": "code",
   "execution_count": 4,
   "metadata": {
    "scrolled": false
   },
   "outputs": [],
   "source": [
    "# fonction recherche de ville\n",
    "def search_city(lat, long):\n",
    "    dx = GEO[\"lat\"] - lat\n",
    "    dy = GEO[\"lon\"] - long\n",
    "    distance = np.sqrt(dx ** 2 + dy ** 2) #distance euclidienne \n",
    "    id_min_distance = distance.idxmin()\n",
    "\n",
    "    return GEO.loc[id_min_distance, \"cp_ville\"]"
   ]
  },
  {
   "cell_type": "code",
   "execution_count": 5,
   "metadata": {
    "scrolled": false
   },
   "outputs": [
    {
     "data": {
      "text/plain": [
       "'71330 BOSJEAN'"
      ]
     },
     "execution_count": 5,
     "metadata": {},
     "output_type": "execute_result"
    }
   ],
   "source": [
    "# on applique la fonction à une coordonnée tirée au hasard\n",
    "np.random.seed(0)\n",
    "a, b = 41.5, 51.1  # latitude min et max de la France métropolitaine\n",
    "lat = np.random.uniform(a, b)\n",
    "a, b = -5.1, 9.5  # longitude min et max de la France métropolitaine\n",
    "lon = np.random.uniform(a, b)\n",
    "\n",
    "search_city(lat, lon)"
   ]
  },
  {
   "cell_type": "markdown",
   "metadata": {},
   "source": [
    "- Ecrire une fonction `dms2dec(deg, min, sec)` qui convertit les degrés, minutes, secondes en valeur numérique pour pouvoir utiliser la fonction précédente avec un GPS."
   ]
  },
  {
   "cell_type": "code",
   "execution_count": 6,
   "metadata": {
    "scrolled": false
   },
   "outputs": [],
   "source": [
    "# conversion degrés, minutes, secondes => décimal\n",
    "def dms2dec(deg, mn, sec):\n",
    "    return deg + (mn/60) + (sec/3600) #formule trouvée ici : https://support.goldensoftware.com/hc/en-us/articles/228362688-Convert-Degrees-Minutes-Seconds-To-Decimal-Degrees-in-Strater"
   ]
  },
  {
   "cell_type": "code",
   "execution_count": 7,
   "metadata": {
    "scrolled": false
   },
   "outputs": [
    {
     "data": {
      "text/plain": [
       "'91120 PALAISEAU'"
      ]
     },
     "execution_count": 7,
     "metadata": {},
     "output_type": "execute_result"
    }
   ],
   "source": [
    "# à partir de coordonnées GPS précises\n",
    "search_city(dms2dec(48, 42, 52), dms2dec(2, 14, 45))"
   ]
  },
  {
   "cell_type": "markdown",
   "metadata": {},
   "source": [
    "**Partie B**\n",
    "\n",
    "La colonne \"geo_shape\" comporte des chaines de catactères au format JSON. Elles représentent les formes géométriques des communes qui sont soit des polygones soit composées de plusieurs polygones.\n",
    "\n",
    "- Utiliser la librairie Python **json** pour parser les valeurs de la colonne \"geo_shape\" et mettre le résultat (`Series`) dans la variable `GEO_SHAPE`."
   ]
  },
  {
   "cell_type": "code",
   "execution_count": 8,
   "metadata": {},
   "outputs": [
    {
     "data": {
      "text/plain": [
       "Code INSEE\n",
       "31080    {'type': 'Polygon', 'coordinates': [[[0.671852...\n",
       "11143    {'type': 'Polygon', 'coordinates': [[[2.906996...\n",
       "43028    {'type': 'Polygon', 'coordinates': [[[4.091674...\n",
       "78506    {'type': 'Polygon', 'coordinates': [[[1.829610...\n",
       "84081    {'type': 'Polygon', 'coordinates': [[[4.927176...\n",
       "Name: geo_shape, dtype: object"
      ]
     },
     "execution_count": 8,
     "metadata": {},
     "output_type": "execute_result"
    }
   ],
   "source": [
    "# GEO_SHAPE\n",
    "\n",
    "# La variable GEO_SHAPE doit contenir une Serie\n",
    "# correspondant aux valeurs de la colonne \"geo_shape\" parsées avec la librairie json\n",
    "\n",
    "import json\n",
    "\n",
    "#pour chaque ligne du dataframe GEO, transforme le json de la colonne \"geo_shape\" en dictionaire\n",
    "json_loads = GEO[\"geo_shape\"].apply(json.loads)\n",
    "\n",
    "#cree une Serie à partir des données de la serie des dictionnaires\n",
    "GEO_SHAPE = pd.Series(json_loads, dtype=object)\n",
    "\n",
    "GEO_SHAPE.head()\n"
   ]
  },
  {
   "cell_type": "markdown",
   "metadata": {},
   "source": [
    "- Ecrire une fonction `get_types()` qui retourne le décompte (`value_counts()`) des valeurs accédées avec la clé \"type\"."
   ]
  },
  {
   "cell_type": "code",
   "execution_count": 9,
   "metadata": {},
   "outputs": [],
   "source": [
    "# value_counts des valeurs \"type\"\n",
    "\n",
    "def get_types():\n",
    "    type_serie = GEO_SHAPE.apply(lambda x : x[\"type\"]) #pour charque ligne retourne son type\n",
    "    return type_serie.value_counts() # value_counts() est une methode ranvoyant un dictionnaire ayant pour cles les valeurs observées et pour valeur leur dénombrement"
   ]
  },
  {
   "cell_type": "markdown",
   "metadata": {},
   "source": [
    "- Ecrire une fonction `get_coordinates_len()` qui retourne le décompte (`value_counts()`) des longueurs des listes accédées avec la clé \"coordinates\"."
   ]
  },
  {
   "cell_type": "code",
   "execution_count": 10,
   "metadata": {},
   "outputs": [],
   "source": [
    "# value_counts des longueurs de \"coordinates\"\n",
    "def get_coordinates_len():\n",
    "    length_serie = GEO_SHAPE.apply(lambda x : len(x[\"coordinates\"])) #pour charque ligne retourne la longeur du tabeau de coordonnées\n",
    "    return length_serie.value_counts()"
   ]
  },
  {
   "cell_type": "markdown",
   "metadata": {},
   "source": [
    "- Ecrire une fonction `get_most_complex_city()` qui retourne la commune est constituée du plus grand nombre de polygones ?"
   ]
  },
  {
   "cell_type": "code",
   "execution_count": 11,
   "metadata": {},
   "outputs": [],
   "source": [
    "# commune constituée du plus grand nombre de polygones\n",
    "def get_most_complex_city():\n",
    "    length_serie = GEO_SHAPE.apply(lambda x : len(x[\"coordinates\"]))\n",
    "    id_max_length_serie = length_serie.idxmax() # idxmax() retourne les indices des lignes ayant les plus grandes valeurs\n",
    "    return GEO[\"cp_ville\"][id_max_length_serie]"
   ]
  },
  {
   "cell_type": "markdown",
   "metadata": {},
   "source": [
    "- Ecrire une fonction `get_nb_cities_2_polygons()` qui retourne  le nombre de villes qui sont de type \"Polygon\" mais dont la longueur des listes accédées avec la clé \"coordinates\" vaut 2 ?"
   ]
  },
  {
   "cell_type": "code",
   "execution_count": 12,
   "metadata": {},
   "outputs": [],
   "source": [
    "# commune constituée du plus grand nombre de polygones\n",
    "def get_nb_cities_2_polygons():\n",
    "    #cree un masque où il sera True si la ligne correspond au filtre, False sinon\n",
    "    length_polygon_mask = GEO_SHAPE.apply(lambda x : True if x[\"type\"] == \"Polygon\" and len(x[\"coordinates\"])==2 else False)\n",
    "    \n",
    "    #recupere les lignes du DF en fonction du masque, si True la ligne est récupérée sinon elle est ignorée\n",
    "    communes_selected  = GEO[length_polygon_mask]\n",
    "    return len(communes_selected)"
   ]
  },
  {
   "cell_type": "code",
   "execution_count": 13,
   "metadata": {},
   "outputs": [],
   "source": [
    "# tests\n",
    "import unittest\n",
    "\n",
    "class Session2Test(unittest.TestCase):\n",
    "    \n",
    "    def test_partie_A1(self):\n",
    "        # on applique la fonction cherche_ville() à une coordonnée tirée au hasard\n",
    "        np.random.seed(0)\n",
    "        a, b = 41.5, 51.1  # latitude min et max de la France métropolitaine\n",
    "        lat = np.random.uniform(a, b)\n",
    "        a, b = -5.1, 9.5  # longitude min et max de la France métropolitaine\n",
    "        lon = np.random.uniform(a, b)\n",
    "\n",
    "        cp_ville = search_city(lat, lon)\n",
    "        self.assertEqual(cp_ville, \"71330 BOSJEAN\")\n",
    "        \n",
    "    def test_partie_A2(self):\n",
    "        # à partir de coordonnées GPS précises\n",
    "        cp_ville = search_city(dms2dec(48, 42, 52), dms2dec(2, 14, 45))\n",
    "        self.assertEqual(cp_ville, \"91120 PALAISEAU\")\n",
    "        \n",
    "    def test_partie_B1(self):\n",
    "        # check types\n",
    "        dico = get_types()\n",
    "        self.assertEqual(dico[\"Polygon\"], 36670)\n",
    "        self.assertEqual(dico[\"MultiPolygon\"], 72)\n",
    "        \n",
    "    def test_partie_B2(self):\n",
    "        # check coordinates len\n",
    "        dico = get_coordinates_len()\n",
    "        self.assertEqual(dico[1], 36660)\n",
    "        self.assertEqual(dico[2], 80)\n",
    "       \n",
    "    def test_partie_B3(self):\n",
    "        # check most complex city\n",
    "        cp_ville = get_most_complex_city()\n",
    "        self.assertEqual(cp_ville, \"83400 HYERES\")\n",
    "        \n",
    "    def test_partie_B4(self):\n",
    "        # check nb cities 2 polygons\n",
    "        nb = get_nb_cities_2_polygons()\n",
    "        self.assertEqual(nb, 10)"
   ]
  },
  {
   "cell_type": "code",
   "execution_count": 14,
   "metadata": {},
   "outputs": [
    {
     "name": "stderr",
     "output_type": "stream",
     "text": [
      "test_partie_A1 (__main__.Session2Test) ... ok\n",
      "test_partie_A2 (__main__.Session2Test) ... ok\n",
      "test_partie_B1 (__main__.Session2Test) ... ok\n",
      "test_partie_B2 (__main__.Session2Test) ... ok\n",
      "test_partie_B3 (__main__.Session2Test) ... ok\n",
      "test_partie_B4 (__main__.Session2Test) ... ok\n",
      "\n",
      "----------------------------------------------------------------------\n",
      "Ran 6 tests in 0.067s\n",
      "\n",
      "OK\n"
     ]
    }
   ],
   "source": [
    "# run tests\n",
    "def run_tests():\n",
    "    test_suite = unittest.makeSuite(Session2Test)\n",
    "    runner = unittest.TextTestRunner(verbosity=2)\n",
    "    runner.run(test_suite)\n",
    "    \n",
    "run_tests()"
   ]
  },
  {
   "cell_type": "markdown",
   "metadata": {},
   "source": [
    "- **Facultatif :**\n",
    "- Pour ces villes vérifier que le premier polygone contient bien le second (enclave). NB : on pourra installer la librairie **shapely**, utiliser la classe Polygon de **shapely.geometry**  et la méthode `contains()`. Sur Windows **shapely** peut nécessiter d'installer manuellement la dll \"geos_c.dll\" dans le répertoire \"Library/bin\" de votre environnement Python."
   ]
  },
  {
   "cell_type": "code",
   "execution_count": 15,
   "metadata": {},
   "outputs": [],
   "source": [
    "#Instalation du package shapely si nécessaire\n",
    "#a mettre dans un invité de commande\n",
    "#pip install shapely"
   ]
  },
  {
   "cell_type": "code",
   "execution_count": 16,
   "metadata": {},
   "outputs": [
    {
     "data": {
      "text/plain": [
       "Code INSEE\n",
       "2A272    True\n",
       "48080    True\n",
       "09042    True\n",
       "71028    True\n",
       "22209    True\n",
       "02232    True\n",
       "2B049    True\n",
       "05052    True\n",
       "67486    True\n",
       "68078    True\n",
       "Name: geo_shape, dtype: bool"
      ]
     },
     "execution_count": 16,
     "metadata": {},
     "output_type": "execute_result"
    }
   ],
   "source": [
    "from shapely.geometry import Polygon\n",
    "\n",
    "length_polygon_mask = GEO_SHAPE.apply(lambda x : True if x[\"type\"] == \"Polygon\" and len(x[\"coordinates\"])==2 else False)\n",
    "communes_selected_Shape = GEO_SHAPE[length_polygon_mask]\n",
    "\n",
    "#pour chaque ligne de la serie, verifie si le 2eme polygone (indice 1) est inclus dans le premier (indice 0)\n",
    "communes_selected_Shape.apply(lambda x : Polygon(x[\"coordinates\"][0]).contains(Polygon(x[\"coordinates\"][1])) )"
   ]
  },
  {
   "cell_type": "code",
   "execution_count": null,
   "metadata": {},
   "outputs": [],
   "source": []
  }
 ],
 "metadata": {
  "anaconda-cloud": {},
  "kernelspec": {
   "display_name": "Python 3",
   "language": "python",
   "name": "python3"
  },
  "language_info": {
   "codemirror_mode": {
    "name": "ipython",
    "version": 3
   },
   "file_extension": ".py",
   "mimetype": "text/x-python",
   "name": "python",
   "nbconvert_exporter": "python",
   "pygments_lexer": "ipython3",
   "version": "3.8.8"
  }
 },
 "nbformat": 4,
 "nbformat_minor": 1
}
