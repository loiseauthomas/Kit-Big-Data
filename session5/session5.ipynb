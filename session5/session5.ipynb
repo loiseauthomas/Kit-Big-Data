{
 "cells": [
  {
   "cell_type": "markdown",
   "metadata": {},
   "source": [
    "# Session 5\n",
    "\n",
    "1. Combiner les données\n",
    "2. Stratégie split-apply-combine (groupby)\n",
    "3. Index hiérarchiques\n",
    "4. Méthodes de reshaping (2)"
   ]
  },
  {
   "cell_type": "code",
   "execution_count": null,
   "metadata": {},
   "outputs": [],
   "source": [
    "# imports\n",
    "import numpy as np\n",
    "import pandas as pd"
   ]
  },
  {
   "cell_type": "markdown",
   "metadata": {},
   "source": [
    "**Dataset n° 1 et n° 2**\n",
    "\n",
    "The GeoNames geographical database covers all countries and contains over eleven million placenames that are available for download free of charge.\n",
    "\n",
    "https://www.geonames.org/"
   ]
  },
  {
   "cell_type": "markdown",
   "metadata": {},
   "source": [
    "#### Pays\n",
    "\n",
    "Voir : https://www.geonames.org/countries/"
   ]
  },
  {
   "cell_type": "code",
   "execution_count": null,
   "metadata": {},
   "outputs": [],
   "source": [
    "# dataset 1\n",
    "var = pd.read_html('https://www.geonames.org/countries/',\n",
    "                   header=0,\n",
    "                   keep_default_na=False,  # NA = North America\n",
    "                   encoding=\"utf-8\"\n",
    "                  )\n",
    "[x.shape for x in var]"
   ]
  },
  {
   "cell_type": "code",
   "execution_count": null,
   "metadata": {},
   "outputs": [],
   "source": [
    "# pays\n",
    "df_pays = var[1]\n",
    "df_pays.head()"
   ]
  },
  {
   "cell_type": "code",
   "execution_count": null,
   "metadata": {},
   "outputs": [],
   "source": [
    "# nombre de pays par continent\n",
    "df_pays['Continent'].value_counts()"
   ]
  },
  {
   "cell_type": "markdown",
   "metadata": {},
   "source": [
    "#### Villes\n",
    "\n",
    "Voir : http://download.geonames.org/export/dump/"
   ]
  },
  {
   "cell_type": "code",
   "execution_count": null,
   "metadata": {},
   "outputs": [],
   "source": [
    "# villes\n",
    "df = pd.read_csv('cities500.zip',\n",
    "                 sep='\\t',\n",
    "                 header=None,\n",
    "                 keep_default_na=False,  # NA = North America\n",
    "                 na_values=['', -9999],\n",
    "                 names=['geonameid', 'name', 'asciiname', 'alternatenames', 'latitude', \n",
    "                        'longitude', 'feature class', 'feature code', 'country code', \n",
    "                        'cc2', 'admin1 code', 'admin2 code', 'admin3 code', 'admin4 code', \n",
    "                        'population', 'elevation', 'dem', 'timezone', 'modification date'],\n",
    "                dtype={'admin1 code': str,\n",
    "                       'admin2 code': str,\n",
    "                       'admin3 code': str,\n",
    "                       'admin4 code': str})\n",
    "df.shape"
   ]
  },
  {
   "cell_type": "code",
   "execution_count": null,
   "metadata": {},
   "outputs": [],
   "source": [
    "# villes\n",
    "df.head()"
   ]
  },
  {
   "cell_type": "code",
   "execution_count": null,
   "metadata": {},
   "outputs": [],
   "source": [
    "# nombre de villes par pays\n",
    "df['country code'].value_counts().head(16)"
   ]
  },
  {
   "cell_type": "markdown",
   "metadata": {},
   "source": [
    "**Exercice n° 1**\n",
    "\n",
    "- Quelle est la ville la plus peuplée (population) ?\n",
    "- Quelle est la ville la plus haute (elevation ou dem) ?\n",
    "- Quelle est la ville la plus basse (elevation ou dem) ?\n",
    "- La colonne \"alternatenames\" contient pour chaque ville les différents noms de chacune des villes, séparés par des virgules. Quelle ville possède le plus de noms différents ? Donnez la liste des noms."
   ]
  },
  {
   "cell_type": "markdown",
   "metadata": {},
   "source": [
    "### 1. Combiner les données\n",
    "\n",
    "Union ensembliste :\n",
    "- fonction `concat()` : concaténation de Series ou DataFrames à partir d'une liste\n",
    "- <strike>à noter la méthode `append()` est à présent *deprecated*</strike>\n",
    "\n",
    "Jointure de bases de données :\n",
    "- fonction `merge()` : jointure de 2 DataFrames ('on' ou bien 'left_on' + 'right_on', 'how', 'suffixes' pour les colonnes dupliquées)\n",
    "- méthode `join()` : jointure d'un DataFrame à un autre ('on', 'how', 'rsuffix', 'lsuffix' pour les colonnes dupliquées)\n",
    "\n",
    "\n",
    "`pd.merge(df1, df2) <=> df1.join(df2)`\n",
    "\n",
    "\n",
    "\n",
    "Mot-clé 'how' :\n",
    "- 'inner' (SQL INNER JOIN) : intersection des valeurs des 2 colonnes de jointure\n",
    "- 'left' (SQL LEFT OUTER JOIN) : valeurs de la colonne de jointure de gauche\n",
    "- 'right' (SQL RIGHT OUTER JOIN) : valeurs de la colonne de jointure de droite\n",
    "- 'outer' (SQL OUTER JOIN) : union des valeurs des 2 colonnes de jointure\n",
    "- 'cross' (SQL CROSS JOIN) : produit cartésien des 2 colonnes de jointure\n",
    "\n",
    "Voir : https://pandas.pydata.org/pandas-docs/stable/user_guide/merging.html"
   ]
  },
  {
   "cell_type": "code",
   "execution_count": null,
   "metadata": {},
   "outputs": [],
   "source": [
    "# merge df et df_pays avec le code iso2\n",
    "df = pd.merge(df,\n",
    "              df_pays,\n",
    "              left_on='country code',\n",
    "              right_on='ISO-3166alpha2',\n",
    "              how='left')\n",
    "df.to_pickle('df_geo.pkl')\n",
    "df.head()"
   ]
  },
  {
   "cell_type": "code",
   "execution_count": null,
   "metadata": {},
   "outputs": [],
   "source": [
    "pd.read_pickle('df_geo.pkl')"
   ]
  },
  {
   "cell_type": "code",
   "execution_count": null,
   "metadata": {},
   "outputs": [],
   "source": [
    "df.info()"
   ]
  },
  {
   "cell_type": "code",
   "execution_count": null,
   "metadata": {},
   "outputs": [],
   "source": [
    "# vérification de l'identité des 2 colonnes (INUTILE !)\n",
    "(df['country code'] == df['ISO-3166alpha2']).all()"
   ]
  },
  {
   "cell_type": "code",
   "execution_count": null,
   "metadata": {},
   "outputs": [],
   "source": [
    "# nombre de villes par continent\n",
    "df['Continent'].value_counts()"
   ]
  },
  {
   "cell_type": "markdown",
   "metadata": {},
   "source": [
    "### 2. Stratégie split-apply-combine\n",
    "\n",
    "La stratégie split-apply-combine consiste à :\n",
    "- éclater les données en sous-groupes sur la base d'un critère (par ex., les valeurs d'une colonne)\n",
    "- appliquer une fonction à chacun des sous-groupes indépendamment\n",
    "- combiner les résultats en une structure de données\n",
    "\n",
    "`df.groupby()` retourne un objet de type DataFrameGroupBy qui peut être vu comme un dictionnaire dont les clés sont les différentes valeurs de la colonne utilisée pour éclater les données, et dont les valeurs sont des sous-DataFrames ou des sous-Series correspondant aux données éclatées.\n",
    "\n",
    "Voir : https://pandas.pydata.org/pandas-docs/stable/user_guide/groupby.html"
   ]
  },
  {
   "cell_type": "code",
   "execution_count": null,
   "metadata": {},
   "outputs": [],
   "source": [
    "# groupby Continent\n",
    "cont_group = df.groupby('Continent')\n",
    "type(cont_group)"
   ]
  },
  {
   "cell_type": "code",
   "execution_count": null,
   "metadata": {},
   "outputs": [],
   "source": [
    "# ngroups\n",
    "cont_group.ngroups"
   ]
  },
  {
   "cell_type": "code",
   "execution_count": null,
   "metadata": {},
   "outputs": [],
   "source": [
    "# sous-groupe\n",
    "cont_group.get_group('AN')"
   ]
  },
  {
   "cell_type": "markdown",
   "metadata": {},
   "source": [
    "### Application de méthodes standard\n",
    "\n",
    "- `size()` : group sizes\n",
    "- `count()` : count of group\n",
    "- `mean()` : mean of groups\n",
    "- `sum()` : sum of group values\n",
    "- `std()` : standard deviation of groups\n",
    "- `var()` : variance of groups\n",
    "- `first()` : first of group values\n",
    "- `last()` : last of group values\n",
    "- `nth()` : nth value\n",
    "- `min()` : min of group values\n",
    "- `max()` : max of group values"
   ]
  },
  {
   "cell_type": "code",
   "execution_count": null,
   "metadata": {},
   "outputs": [],
   "source": [
    "# exemple avec size()\n",
    "df.groupby('Continent').size()"
   ]
  },
  {
   "cell_type": "code",
   "execution_count": null,
   "metadata": {},
   "outputs": [],
   "source": [
    "# exemple avec size()\n",
    "df.groupby('Country').size()"
   ]
  },
  {
   "cell_type": "code",
   "execution_count": null,
   "metadata": {},
   "outputs": [],
   "source": [
    "# exemple avec sum()\n",
    "df.groupby('Continent')['population'].sum()"
   ]
  },
  {
   "cell_type": "code",
   "execution_count": null,
   "metadata": {},
   "outputs": [],
   "source": [
    "# exemple avec sum()\n",
    "df.groupby('Continent').sum()"
   ]
  },
  {
   "cell_type": "markdown",
   "metadata": {},
   "source": [
    "### Méthode aggregate() ou agg()\n",
    "\n",
    "Applique une fonction, une liste de fonctions ou un dictionnaire de fonctions à un groupby.\n",
    "\n",
    "#### Avec une fonction simple"
   ]
  },
  {
   "cell_type": "code",
   "execution_count": null,
   "metadata": {},
   "outputs": [],
   "source": [
    "# exemple\n",
    "df.groupby('Continent').agg('mean')  # idem que df.groupby('Continent').mean()"
   ]
  },
  {
   "cell_type": "markdown",
   "metadata": {},
   "source": [
    "#### Avec une liste de fonctions"
   ]
  },
  {
   "cell_type": "code",
   "execution_count": null,
   "metadata": {},
   "outputs": [],
   "source": [
    "# exemple\n",
    "df.groupby('Continent').agg(['mean', 'std'])"
   ]
  },
  {
   "cell_type": "code",
   "execution_count": null,
   "metadata": {},
   "outputs": [],
   "source": [
    "# exemple\n",
    "df.set_index('Continent').select_dtypes(include=np.number).reset_index().groupby('Continent').agg(['mean', 'std'])"
   ]
  },
  {
   "cell_type": "markdown",
   "metadata": {},
   "source": [
    "#### Avec un dictionnaire de fonctions"
   ]
  },
  {
   "cell_type": "code",
   "execution_count": null,
   "metadata": {},
   "outputs": [],
   "source": [
    "# exemple avec un dictionnaire\n",
    "df.groupby('Continent').agg({'population': 'sum',\n",
    "                             'elevation': 'mean',\n",
    "                             'Country': ['min', 'max']})"
   ]
  },
  {
   "cell_type": "markdown",
   "metadata": {},
   "source": [
    "### Méthode apply()\n",
    "\n",
    "Applique une lambda ou une fonction définie à un groupby."
   ]
  },
  {
   "cell_type": "code",
   "execution_count": null,
   "metadata": {},
   "outputs": [],
   "source": [
    "df.info()"
   ]
  },
  {
   "cell_type": "code",
   "execution_count": null,
   "metadata": {},
   "outputs": [],
   "source": [
    "# retourne la ville la plus peuplée d'un DataFrame\n",
    "def top1city(group):\n",
    "    return group.loc[group['population'].idxmax(), 'name']"
   ]
  },
  {
   "cell_type": "code",
   "execution_count": null,
   "metadata": {},
   "outputs": [],
   "source": [
    "# avec df\n",
    "top1city(df)"
   ]
  },
  {
   "cell_type": "code",
   "execution_count": null,
   "metadata": {},
   "outputs": [],
   "source": [
    "# avec le groupby Continent\n",
    "df.groupby('Continent').apply(top1city)"
   ]
  },
  {
   "cell_type": "code",
   "execution_count": null,
   "metadata": {},
   "outputs": [],
   "source": [
    "# avec le groupby Country\n",
    "df.groupby('Country').apply(top1city)"
   ]
  },
  {
   "cell_type": "code",
   "execution_count": null,
   "metadata": {},
   "outputs": [],
   "source": [
    "# retourne les 3 villes les plus peuplées d'un DataFrame\n",
    "def top3city(group):\n",
    "    return group.nlargest(3, 'population')['name']"
   ]
  },
  {
   "cell_type": "code",
   "execution_count": null,
   "metadata": {},
   "outputs": [],
   "source": [
    "# avec df\n",
    "top3city(df)"
   ]
  },
  {
   "cell_type": "code",
   "execution_count": null,
   "metadata": {},
   "outputs": [],
   "source": [
    "# par continent\n",
    "df.groupby('Continent').apply(top3city).droplevel(1)  # supprime le multi-index"
   ]
  },
  {
   "cell_type": "markdown",
   "metadata": {},
   "source": [
    "**Exercice n° 2**\n",
    "\n",
    "Créez une fonction qui calcule la moyenne du nombre de noms alternatifs de chaque ville.\n",
    "\n",
    "Testez-la sur tout le dataset.\n",
    "\n",
    "Appliquez cette fonction sur un groupby 'feature code'. Quel code obtient la valeur la plus grande ?\n",
    "\n",
    "Voir les features codes des pays : https://www.geonames.org/export/codes.html#P"
   ]
  },
  {
   "cell_type": "markdown",
   "metadata": {},
   "source": [
    "### 3. Index hiérarchiques\n",
    "\n",
    "pandas est capable de gérer des index hiérarchiques.\n",
    "\n",
    "Voir : https://pandas.pydata.org/pandas-docs/stable/user_guide/advanced.html\n",
    "\n",
    "#### 3.1 Index"
   ]
  },
  {
   "cell_type": "code",
   "execution_count": null,
   "metadata": {},
   "outputs": [],
   "source": [
    "# groupby 2 colonnes\n",
    "# nombre de villes par pays et par continent\n",
    "s = df.groupby(['Continent', 'Country']).size()\n",
    "s"
   ]
  },
  {
   "cell_type": "code",
   "execution_count": null,
   "metadata": {},
   "outputs": [],
   "source": [
    "# type de l'index\n",
    "type(s.index)"
   ]
  },
  {
   "cell_type": "code",
   "execution_count": null,
   "metadata": {},
   "outputs": [],
   "source": [
    "# niveaux de l'index : Continent, Country\n",
    "s.index.levels"
   ]
  },
  {
   "cell_type": "code",
   "execution_count": null,
   "metadata": {},
   "outputs": [],
   "source": [
    "# accès au premier niveau\n",
    "s.loc['AF'] # ou s.loc[('AF',)]"
   ]
  },
  {
   "cell_type": "code",
   "execution_count": null,
   "metadata": {},
   "outputs": [],
   "source": [
    "# accès au second niveau\n",
    "s.loc[('AF', 'Algeria')]"
   ]
  },
  {
   "cell_type": "code",
   "execution_count": null,
   "metadata": {},
   "outputs": [],
   "source": [
    "# reset Continent\n",
    "s.reset_index('Continent') # ou s.reset_index(level=0)"
   ]
  },
  {
   "cell_type": "code",
   "execution_count": null,
   "metadata": {},
   "outputs": [],
   "source": [
    "# reset Country\n",
    "s.reset_index('Country') # ou s.reset_index(level=1)"
   ]
  },
  {
   "cell_type": "code",
   "execution_count": null,
   "metadata": {},
   "outputs": [],
   "source": [
    "# reset Country\n",
    "s.reset_index('Country').reset_index() # ou s.reset_index(level=1)"
   ]
  },
  {
   "cell_type": "code",
   "execution_count": null,
   "metadata": {},
   "outputs": [],
   "source": [
    "# swaplevel\n",
    "s.swaplevel()"
   ]
  },
  {
   "cell_type": "code",
   "execution_count": null,
   "metadata": {},
   "outputs": [],
   "source": [
    "# droplevel\n",
    "s.droplevel(1)"
   ]
  },
  {
   "cell_type": "markdown",
   "metadata": {},
   "source": [
    "#### 3.2 Columns"
   ]
  },
  {
   "cell_type": "code",
   "execution_count": null,
   "metadata": {},
   "outputs": [],
   "source": [
    "# retour sur un dataframe avec des colonnes hiérarchiques\n",
    "tab = df.groupby('Continent').agg({'population': 'sum',\n",
    "                                   'elevation': 'mean',\n",
    "                                   'Country': ['min', 'max']})\n",
    "tab"
   ]
  },
  {
   "cell_type": "code",
   "execution_count": null,
   "metadata": {},
   "outputs": [],
   "source": [
    "# columns\n",
    "tab.columns"
   ]
  },
  {
   "cell_type": "code",
   "execution_count": null,
   "metadata": {},
   "outputs": [],
   "source": [
    "# accès au premier niveau\n",
    "tab.loc[:, 'Country']  # ou tab.loc[:, ('Country',)]"
   ]
  },
  {
   "cell_type": "code",
   "execution_count": null,
   "metadata": {},
   "outputs": [],
   "source": [
    "# accès au second niveau\n",
    "tab.loc[:, ('Country', 'min')]"
   ]
  },
  {
   "cell_type": "code",
   "execution_count": null,
   "metadata": {},
   "outputs": [],
   "source": [
    "# swaplevel\n",
    "tab.swaplevel(axis=1)"
   ]
  },
  {
   "cell_type": "code",
   "execution_count": null,
   "metadata": {},
   "outputs": [],
   "source": [
    "# droplevel\n",
    "tab.droplevel(0, axis=1)"
   ]
  },
  {
   "cell_type": "markdown",
   "metadata": {},
   "source": [
    "### 4. Méthodes de reshaping (2)\n",
    "\n",
    "**pandas** possède plusieurs méthodes de reshaping qui généralisent les méthodes de pivot :\n",
    "- `stack()` : move the inner-most (or the specified) column level to the inner-most index level\n",
    "- `unstack()` : move the inner-most (or the specified) index level to the inner-most column level\n",
    "- `swaplevel()` : swap 2 levels from index or from columns\n",
    "- `droplevel()` : drop a level of an index or of a column\n",
    "\n",
    "D'autres méthodes permettent de manipuler les index et peuvent être combinées :\n",
    "- `set_index()` : move the specified column as the new index\n",
    "- `reset_index()` : move the specified index as a new column\n",
    "- `reindex()` : conform to a new index\n",
    "\n",
    "Enfin, la méthode `melt()` permet de faire passer une table d'un format large vers un format long.\n",
    "\n",
    "Toutes ces méthodes sont très utiles pour reformatter des data, notamment lorsqu'elles sont fournies dans un format pour les humains et doivent être transformées dans un format pour les machines.\n",
    "\n",
    "Voir : https://pandas.pydata.org/pandas-docs/stable/user_guide/reshaping.html\n",
    "\n",
    "Voir également l'article Tidy Data."
   ]
  },
  {
   "cell_type": "code",
   "execution_count": null,
   "metadata": {},
   "outputs": [],
   "source": [
    "# exemple\n",
    "s = df.groupby(['Continent', 'Country']).size()\n",
    "s"
   ]
  },
  {
   "cell_type": "code",
   "execution_count": null,
   "metadata": {},
   "outputs": [],
   "source": [
    "# exemple\n",
    "s.unstack()"
   ]
  },
  {
   "cell_type": "code",
   "execution_count": null,
   "metadata": {
    "scrolled": true
   },
   "outputs": [],
   "source": [
    "# exemple\n",
    "s.unstack('Continent')"
   ]
  },
  {
   "cell_type": "code",
   "execution_count": null,
   "metadata": {},
   "outputs": [],
   "source": [
    "# exemple\n",
    "tab = df.groupby('Continent').agg({'population': 'sum',\n",
    "                                   'elevation': 'mean',\n",
    "                                   'Country': ['min', 'max']})\n",
    "tab"
   ]
  },
  {
   "cell_type": "code",
   "execution_count": null,
   "metadata": {},
   "outputs": [],
   "source": [
    "# exemple\n",
    "tab.stack()"
   ]
  },
  {
   "cell_type": "code",
   "execution_count": null,
   "metadata": {},
   "outputs": [],
   "source": [
    "# exemple\n",
    "tab.stack(0)"
   ]
  },
  {
   "cell_type": "markdown",
   "metadata": {},
   "source": [
    "**Remarque** : la méthode `pivot_table()` peut être simulée avec un `groupby()` suivi d'un `unstack()`."
   ]
  },
  {
   "cell_type": "code",
   "execution_count": null,
   "metadata": {},
   "outputs": [],
   "source": [
    "# remarque pivot_table = groupby + unstack\n",
    "df.pivot_table(values='Population', index='Country', columns='Continent', aggfunc='sum')"
   ]
  },
  {
   "cell_type": "code",
   "execution_count": null,
   "metadata": {},
   "outputs": [],
   "source": [
    "# remarque pivot_table = groupby + unstack\n",
    "df.groupby(['Country', 'Continent'])['Population'].sum().unstack()"
   ]
  },
  {
   "cell_type": "markdown",
   "metadata": {},
   "source": [
    "Le `pivot_table()` est même un peu plus lent, mais plus facile à comprendre."
   ]
  },
  {
   "cell_type": "code",
   "execution_count": null,
   "metadata": {},
   "outputs": [],
   "source": [
    "# remarque pivot_table = groupby + unstack\n",
    "%timeit df.pivot_table(values='Population', index='Country', columns='Continent', aggfunc='sum')"
   ]
  },
  {
   "cell_type": "code",
   "execution_count": null,
   "metadata": {},
   "outputs": [],
   "source": [
    "# groupby + unstack\n",
    "%timeit df.groupby(['Country', 'Continent'])['Population'].sum().unstack()"
   ]
  },
  {
   "cell_type": "markdown",
   "metadata": {},
   "source": [
    "**Dataset n° 3**\n",
    "\n",
    "United Nations (UNCTAD) with FDI inflows (Foreign direct investment), by region and economy from\n",
    "1990 to 2018.\n",
    "\n",
    "Ce fichier est en format large avec une colonne par année, facilement lisible par un humain."
   ]
  },
  {
   "cell_type": "code",
   "execution_count": null,
   "metadata": {},
   "outputs": [],
   "source": [
    "# UNCTAB dataset\n",
    "df_un = pd.read_excel('WIR19_tab01.xlsx',\n",
    "                      header=2,\n",
    "                      nrows=240)\n",
    "df_un = df_un.drop(0)\n",
    "df_un['Region/economy'] = df_un['Region/economy'].apply(str.strip)\n",
    "df_un.columns = ['Region/economy'] + [int(col) for col in df_un.columns[1:]]\n",
    "df_un"
   ]
  },
  {
   "cell_type": "markdown",
   "metadata": {},
   "source": [
    "On peut utiliser `stack()` + `reset_index()` pour le passer en format long, dit normalisé."
   ]
  },
  {
   "cell_type": "code",
   "execution_count": null,
   "metadata": {},
   "outputs": [],
   "source": [
    "# pour le passer au format long\n",
    "# on peut utiliser stack + reset_index\n",
    "df_un.set_index('Region/economy').stack().reset_index()"
   ]
  },
  {
   "cell_type": "code",
   "execution_count": null,
   "metadata": {},
   "outputs": [],
   "source": [
    "# vérification de la longueur\n",
    "len(df_un) * (df_un.shape[1] - 1)"
   ]
  },
  {
   "cell_type": "markdown",
   "metadata": {},
   "source": [
    "La méthode `melt()` fait aussi ça très bien.\n",
    "\n",
    "Elle prend comme arguments :\n",
    "- la liste des colonnes associées à l'identité des enregistrements\n",
    "- éventuellement la liste des colonnes associées aux différentes valeurs considérées\n",
    "\n",
    "Elle génère un DataFrame normalisé avec les colonnes associées à l'identité des enregistrements, ainsi qu'une colonne \"variable\" correspondant aux noms des anciennes colonnes de valeurs et une colonne \"value\" correspondant aux valeurs des anciennes colonnes de valeurs."
   ]
  },
  {
   "cell_type": "code",
   "execution_count": null,
   "metadata": {},
   "outputs": [],
   "source": [
    "# ou bien tout simplement\n",
    "# la méthode melt\n",
    "tab = df_un.melt(id_vars=['Region/economy'])\n",
    "tab"
   ]
  },
  {
   "cell_type": "code",
   "execution_count": null,
   "metadata": {},
   "outputs": [],
   "source": [
    "# pour revenir pratiqument au DataFrame de départ\n",
    "tab.set_index(['Region/economy', 'variable']).unstack().reset_index()"
   ]
  },
  {
   "cell_type": "markdown",
   "metadata": {},
   "source": [
    "**Exercice n° 3**\n",
    "\n",
    "Faites la jointure de `df_un` avec `df_pays` en utilisant la fonction `merge()` ou la méthode `join()`.\n",
    "\n",
    "Comparez le nombre de lignes entre le résultat et `df_pays`. D'où vient le problème ?\n",
    "\n",
    "Faire le mapping avec un dictionnaire de transcodification des noms des pays (voir le fichier `mapping.py`).\n",
    "\n",
    "Repassez en format long avec la méthode `melt()`."
   ]
  },
  {
   "cell_type": "code",
   "execution_count": null,
   "metadata": {},
   "outputs": [],
   "source": [
    "from country_mapping import mapping\n",
    "mapping"
   ]
  }
 ],
 "metadata": {
  "kernelspec": {
   "display_name": "Python 3",
   "language": "python",
   "name": "python3"
  },
  "language_info": {
   "codemirror_mode": {
    "name": "ipython",
    "version": 3
   },
   "file_extension": ".py",
   "mimetype": "text/x-python",
   "name": "python",
   "nbconvert_exporter": "python",
   "pygments_lexer": "ipython3",
   "version": "3.8.10"
  }
 },
 "nbformat": 4,
 "nbformat_minor": 4
}
