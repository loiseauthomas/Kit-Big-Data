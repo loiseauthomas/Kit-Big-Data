{
 "cells": [
  {
   "cell_type": "markdown",
   "metadata": {},
   "source": [
    "# Projet maison n° 4"
   ]
  },
  {
   "cell_type": "code",
   "execution_count": 57,
   "metadata": {},
   "outputs": [],
   "source": [
    "# imports\n",
    "import requests\n",
    "from bs4 import BeautifulSoup\n",
    "import requests\n",
    "import re\n",
    "import json"
   ]
  },
  {
   "cell_type": "markdown",
   "metadata": {},
   "source": [
    "**Partie A**\n",
    "\n",
    "Ecrire une fonction `get_prices_from_url()` qui extrait des informations à partir des 2 pages ci-dessous.\n",
    "\n",
    "```python\n",
    "URL_PAGE2 = \"https://kim.fspot.org/cours/page2.html\"\n",
    "URL_PAGE3 = \"https://kim.fspot.org/cours/page3.html\"\n",
    "```\n",
    "\n",
    "Avec `URL_PAGE2`, la fonction doit retourner :\n",
    "\n",
    "```json\n",
    "{'Personal': {'price': '$5', 'storage': '1GB', 'databases': 1},\n",
    " 'Small Business': {'price': '$25', 'storage': '10GB', 'databases': 5},\n",
    " 'Enterprise': {'price': '$45', 'storage': '100GB', 'databases': 25}}\n",
    "```"
   ]
  },
  {
   "cell_type": "code",
   "execution_count": 54,
   "metadata": {},
   "outputs": [
    {
     "name": "stdout",
     "output_type": "stream",
     "text": [
      "{'Personal': {'price': '$5', 'storage': '1GB', 'databases': 1}, 'Small Business': {'price': '$25', 'storage': '10GB', 'databases': 5}, 'Enterprise': {'price': '$45', 'storage': '100GB', 'databases': 25}}\n",
      "{'Personal': {'price': '$5', 'storage': '1GB', 'databases': 1}, 'Small Business': {'price': '$25', 'storage': '10GB', 'databases': 5}, 'Enterprise': {'price': '$45', 'storage': '100GB', 'databases': 25}, 'Privilege': {'price': '$99', 'storage': '1TB', 'databases': 100}}\n"
     ]
    }
   ],
   "source": [
    "# partie A\n",
    "URL_PAGE2 = \"https://kim.fspot.org/cours/page2.html\"\n",
    "URL_PAGE3 = \"https://kim.fspot.org/cours/page3.html\"\n",
    "\n",
    "def get_prices_from_url(url):\n",
    "    r = requests.get(url)\n",
    "    soup = BeautifulSoup(r.content)\n",
    "    prices = {}\n",
    "    tabs = soup.find_all(\"div\", \"pricing-table\")\n",
    "    #on recupere les données\n",
    "    for i, t in enumerate(tabs) :\n",
    "        title = t.find(\"h2\").text\n",
    "        \n",
    "        #price\n",
    "        price = t.find(\"span\", \"pricing-table-price\").text.strip()\n",
    "        price = re.search('(\\$[0-9]+)', price).group(0)\n",
    "        \n",
    "        #storage\n",
    "        storage = t.find(\"li\", text=re.compile(\".*storage.*\")).text.strip()\n",
    "        storage = re.search('([0-9]+[A-Z]{2})', storage).group(0)\n",
    "        \n",
    "        #databases\n",
    "        databases = t.find(\"li\", text=re.compile(\".*database.*\")).text.strip()\n",
    "        databases = int(re.search('([0-9]*)', databases).group(0))\n",
    "        \n",
    "        #ajout au dictionaire des prix\n",
    "        dico = {\"price\":price,\"storage\":storage,\"databases\":databases}\n",
    "        prices[title] = dico\n",
    "    \n",
    "    return prices\n",
    "\n",
    "print(get_prices_from_url(URL_PAGE2))\n",
    "print(get_prices_from_url(URL_PAGE3))"
   ]
  },
  {
   "cell_type": "markdown",
   "metadata": {},
   "source": [
    "**Partie B**\n",
    "\n",
    "*L'abus d'alcool est dangereux pour la santé, à consommer avec modération.*\n",
    "\n",
    "1) Ecrire une fonction `extract_beer_infos()` qui extrait des informations sur une bière du site de bières *beowulf*.\n",
    "\n",
    "Exemple d'URL: https://www.beerwulf.com/fr-fr/p/bieres/cuvee-des-trolls.33 \n",
    "\n",
    "La fonction doit retourner :\n",
    "```json\n",
    "{'Nom': 'Cuvée des Trolls',\n",
    " 'Style': 'Bière Blonde',\n",
    " 'Contenu': 25,\n",
    " 'Degré d’alcool': 7.0,\n",
    " 'Origine': 'Belgique',\n",
    " 'Brasseur': 'Brasserie Dubuisson Freres'}\n",
    "```"
   ]
  },
  {
   "cell_type": "code",
   "execution_count": 72,
   "metadata": {},
   "outputs": [
    {
     "data": {
      "text/plain": [
       "{'Nom': 'Desperados',\n",
       " 'Style': 'Lager',\n",
       " 'Contenu': 33,\n",
       " 'Degré d’alcool': 5.9,\n",
       " 'Origine': 'France',\n",
       " 'Brasseur': 'Desperados'}"
      ]
     },
     "execution_count": 72,
     "metadata": {},
     "output_type": "execute_result"
    }
   ],
   "source": [
    "# partie B-1\n",
    "def extract_beer_infos(url):\n",
    "    r = requests.get(url)\n",
    "    soup = BeautifulSoup(r.content)\n",
    "    beer_infos = {\n",
    "        'Nom': None,\n",
    "        'Style': None,\n",
    "        'Contenu': None,\n",
    "        'Degré d’alcool': None,\n",
    "        'Origine': None,\n",
    "        'Brasseur': None\n",
    "    }\n",
    "    beer_infos[\"Nom\"] = soup.find(\"div\",\"product-detail-info-title\").text.strip()\n",
    "    \n",
    "    beer_infos[\"Style\"] = soup.find(\"dt\", text=re.compile(\".*Style.*\")).next_sibling.next_sibling.a.text.strip()\n",
    "    \n",
    "    Contenu_text = soup.find(\"dd\",\"js-beer-volume\").text.strip()\n",
    "    beer_infos[\"Contenu\"] = int(re.search('([0-9]+)', Contenu_text).group(0))\n",
    "    \n",
    "    Degre_alcool_text = soup.find(\"dt\", text=re.compile(\".*Degré d’alcool.*\")).next_sibling.next_sibling.text\n",
    "    beer_infos[\"Degré d’alcool\"] = float(re.search('([0-9]*,[0-9]*)', Degre_alcool_text).group(0).replace(',','.'))\n",
    "    \n",
    "    beer_infos[\"Origine\"] = soup.find(\"dd\",\"js-beer-country\").text.strip()\n",
    "    \n",
    "    beer_infos[\"Brasseur\"] = soup.find(\"dt\", text=re.compile(\".*Brasseur.*\")).next_sibling.next_sibling.a.text.strip()\n",
    "    return beer_infos\n",
    "\n",
    "extract_beer_infos(\"https://www.beerwulf.com/fr-fr/p/bieres/desperados.33\")"
   ]
  },
  {
   "cell_type": "markdown",
   "metadata": {},
   "source": [
    "2) L'URL ci-après retourne un JSON avec une liste de bières :\n",
    "\n",
    "```python\n",
    "URL_BEERLIST_FRANCE = \"https://www.beerwulf.com/fr-FR/api/search/searchProducts?country=France&container=Bouteille\"\n",
    "```\n",
    "\n",
    "Ecrire une fonction `extract_beer_list_infos(url)` qui prend en argument cet URL et retourne les informations sur une liste de bières du site *beowulf*.\n",
    "\n",
    "Cette fonction doit retourner la liste des informations obtenues par la fonction précédemment définie `extract_beer_infos()`.\n",
    "\n",
    "Exemple de retour :\n",
    "\n",
    "```json\n",
    "[{'Nom':'Desperados','Style':'Lager','Contenu':33,'Degré d’alcool':5.9,'Origine':'France','Brasseur':'Desperados'},\n",
    "{'Nom':'La Lager Sans Gluten de Vézelay','Style':'Lager','Contenu':25,'Degré d’alcool':4.0,'Origine':'France','Brasseur':'Brasserie de Vézelay'},\n",
    "{'Nom':'Mélusine Bio','Style':'Pale Ale','Contenu': 33,'Degré d’alcool': 5.0,'Origine':'France','Brasseur':'Mélusine'},\n",
    "{'Nom':'La Parisienne Le Titi Parisien','Style':'IPA','Contenu':33,'Degré d’alcool':5.5,'Origine':'France','Brasseur': 'Brasserie la Parisienne'},\n",
    "{'Nom':'Brasserie De Sutter Brin de Folie','Style':'Bière Blonde','Contenu': 33,'Degré d’alcool':6.5,'Origine':'France','Brasseur':'Brasserie de Sutter'}]\n",
    "```"
   ]
  },
  {
   "cell_type": "code",
   "execution_count": 73,
   "metadata": {},
   "outputs": [
    {
     "name": "stdout",
     "output_type": "stream",
     "text": [
      "['https://www.beerwulf.com/fr-fr/p/bieres/desperados.33']\n"
     ]
    },
    {
     "data": {
      "text/plain": [
       "[{'Nom': 'Desperados',\n",
       "  'Style': 'Lager',\n",
       "  'Contenu': 33,\n",
       "  'Degré d’alcool': 5.9,\n",
       "  'Origine': 'France',\n",
       "  'Brasseur': 'Desperados'}]"
      ]
     },
     "execution_count": 73,
     "metadata": {},
     "output_type": "execute_result"
    }
   ],
   "source": [
    "# partie B-2\n",
    "URL_BEERLIST_FRANCE = \"https://www.beerwulf.com/fr-FR/api/search/searchProducts?country=France&container=Bouteille\"\n",
    "\n",
    "def extract_beer_list_infos(url):\n",
    "    # Collecter les pages de bières à partir du JSON\n",
    "    beer_pages = []\n",
    "    r = requests.get(url)\n",
    "    json_content = json.loads(r.content)\n",
    "    items = json_content[\"items\"]\n",
    "    for i, item in enumerate(items):\n",
    "        beer_pages.append(\"https://www.beerwulf.com\"+item[\"contentReference\"])\n",
    "    \n",
    "    print(beer_pages)\n",
    "    \n",
    "    # Sequential version (slow):\n",
    "    beers = []\n",
    "    for i, url in enumerate(beer_pages):\n",
    "        beers.append(extract_beer_infos(url))\n",
    "\n",
    "    # Facultatif\n",
    "    # Parallel version (faster):\n",
    "    # beers = []\n",
    "    \n",
    "    return beers\n",
    "\n",
    "extract_beer_list_infos(URL_BEERLIST_FRANCE)"
   ]
  },
  {
   "cell_type": "code",
   "execution_count": 74,
   "metadata": {},
   "outputs": [],
   "source": [
    "import unittest\n",
    "\n",
    "class Session4Tests(unittest.TestCase):\n",
    "    def test_01_get_prices_from_url_page2(self):\n",
    "        prices = get_prices_from_url(URL_PAGE2)\n",
    "        # We should have found 3 products:\n",
    "        self.assertIsInstance(prices, dict)\n",
    "        self.assertEqual(len(prices), 3)\n",
    "        self.assertIn('Personal', prices)\n",
    "        self.assertIn('Small Business', prices)\n",
    "        self.assertIn('Enterprise', prices)\n",
    "        \n",
    "        personal = prices['Personal']\n",
    "        self.assertIn('price', personal)\n",
    "        self.assertIn('storage', personal)\n",
    "        self.assertIn('databases', personal)\n",
    "        self.assertEqual(personal['price'], '$5')\n",
    "        self.assertEqual(personal['storage'], '1GB')\n",
    "        self.assertEqual(personal['databases'], 1)\n",
    "        \n",
    "    def test_02_get_prices_from_url_page3(self):\n",
    "        prices = get_prices_from_url(URL_PAGE3)\n",
    "        self.assertIsInstance(prices, dict)\n",
    "        self.assertEqual(len(prices), 4)\n",
    "        self.assertEqual(\n",
    "            prices['Privilege'],\n",
    "            {'databases': 100, 'price': '$99', 'storage': '1TB'}\n",
    "        )\n",
    "    \n",
    "    def test_03_extract_beer_list_infos(self):\n",
    "        infos = extract_beer_list_infos(URL_BEERLIST_FRANCE)\n",
    "        self.assertIsInstance(infos, list)\n",
    "        self.assertGreater(len(infos), 1)\n",
    "        # Contenu = int\n",
    "        # Degré d’alcool = float\n",
    "        for beer in infos:\n",
    "            self.assertIsInstance(beer['Nom'], str)\n",
    "            self.assertIsInstance(beer['Style'], str)\n",
    "            self.assertIsInstance(beer['Contenu'], int)\n",
    "            self.assertIsInstance(beer['Degré d’alcool'], float)\n",
    "            self.assertEqual(beer['Origine'], \"France\")\n",
    "            self.assertIsInstance(beer['Brasseur'], str)\n",
    "\n",
    "            \n",
    "def run_tests():\n",
    "    test_suite = unittest.makeSuite(Session4Tests)\n",
    "    runner = unittest.TextTestRunner(verbosity=2)\n",
    "    runner.run(test_suite)"
   ]
  },
  {
   "cell_type": "code",
   "execution_count": 75,
   "metadata": {},
   "outputs": [
    {
     "name": "stderr",
     "output_type": "stream",
     "text": [
      "test_01_get_prices_from_url_page2 (__main__.Session4Tests) ... ok\n",
      "test_02_get_prices_from_url_page3 (__main__.Session4Tests) ... ok\n",
      "test_03_extract_beer_list_infos (__main__.Session4Tests) ... "
     ]
    },
    {
     "name": "stdout",
     "output_type": "stream",
     "text": [
      "['https://www.beerwulf.com/fr-fr/p/bieres/desperados.33']\n"
     ]
    },
    {
     "name": "stderr",
     "output_type": "stream",
     "text": [
      "FAIL\n",
      "\n",
      "======================================================================\n",
      "FAIL: test_03_extract_beer_list_infos (__main__.Session4Tests)\n",
      "----------------------------------------------------------------------\n",
      "Traceback (most recent call last):\n",
      "  File \"<ipython-input-74-e51c85ccf944>\", line 33, in test_03_extract_beer_list_infos\n",
      "    self.assertGreater(len(infos), 1)\n",
      "AssertionError: 1 not greater than 1\n",
      "\n",
      "----------------------------------------------------------------------\n",
      "Ran 3 tests in 9.079s\n",
      "\n",
      "FAILED (failures=1)\n"
     ]
    }
   ],
   "source": [
    "if __name__ == '__main__':\n",
    "    run_tests()"
   ]
  },
  {
   "cell_type": "markdown",
   "metadata": {},
   "source": [
    "**Facultatif**\n",
    "\n",
    "Chercher comment optimiser cette fonction en utilisant `multiprocessing.Pool()` pour paralléliser les accès web."
   ]
  }
 ],
 "metadata": {
  "kernelspec": {
   "display_name": "Python 3",
   "language": "python",
   "name": "python3"
  },
  "language_info": {
   "codemirror_mode": {
    "name": "ipython",
    "version": 3
   },
   "file_extension": ".py",
   "mimetype": "text/x-python",
   "name": "python",
   "nbconvert_exporter": "python",
   "pygments_lexer": "ipython3",
   "version": "3.8.8"
  }
 },
 "nbformat": 4,
 "nbformat_minor": 4
}
