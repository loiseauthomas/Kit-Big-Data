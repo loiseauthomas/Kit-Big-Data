{
 "cells": [
  {
   "cell_type": "markdown",
   "id": "17f18ea3",
   "metadata": {},
   "source": [
    "# Projet Final - Kit Big Data\n",
    "\n",
    "\n",
    "### Abstract\n",
    "\n",
    "### Introduction\n",
    "\n",
    "### Etape 1 : Recupération de la donnée\n",
    "\n",
    "### Etape 2 : Nettoyage\n",
    "\n",
    "### Etape 3 : Enrichissement\n",
    "\n",
    "### Etape 4 : Analyse"
   ]
  },
  {
   "cell_type": "code",
   "execution_count": 23,
   "id": "55bd58ed",
   "metadata": {},
   "outputs": [
    {
     "name": "stderr",
     "output_type": "stream",
     "text": [
      "/Users/thomas/opt/anaconda3/lib/python3.8/site-packages/urllib3/connectionpool.py:981: InsecureRequestWarning: Unverified HTTPS request is being made to host 'www.vendeeglobe.org'. Adding certificate verification is strongly advised. See: https://urllib3.readthedocs.io/en/latest/advanced-usage.html#ssl-warnings\n",
      "  warnings.warn(\n"
     ]
    },
    {
     "ename": "FileNotFoundError",
     "evalue": "[Errno 2] No such file or directory: 'test/test.xlsx'",
     "output_type": "error",
     "traceback": [
      "\u001b[0;31m---------------------------------------------------------------------------\u001b[0m",
      "\u001b[0;31mFileNotFoundError\u001b[0m                         Traceback (most recent call last)",
      "\u001b[0;32m<ipython-input-23-d6af14c5ac6e>\u001b[0m in \u001b[0;36m<module>\u001b[0;34m\u001b[0m\n\u001b[1;32m      6\u001b[0m         \u001b[0moutput_file\u001b[0m\u001b[0;34m.\u001b[0m\u001b[0mwrite\u001b[0m\u001b[0;34m(\u001b[0m\u001b[0mreq\u001b[0m\u001b[0;34m.\u001b[0m\u001b[0mcontent\u001b[0m\u001b[0;34m)\u001b[0m\u001b[0;34m\u001b[0m\u001b[0;34m\u001b[0m\u001b[0m\n\u001b[1;32m      7\u001b[0m \u001b[0;34m\u001b[0m\u001b[0m\n\u001b[0;32m----> 8\u001b[0;31m \u001b[0mget_file_from_url\u001b[0m\u001b[0;34m(\u001b[0m\u001b[0;34m'https://www.vendeeglobe.org/download-race-data/vendeeglobe_20201111_110000.xlsx'\u001b[0m\u001b[0;34m,\u001b[0m \u001b[0;34m\"test.xlsx\"\u001b[0m\u001b[0;34m,\u001b[0m \u001b[0;34m\"test\"\u001b[0m\u001b[0;34m)\u001b[0m\u001b[0;34m\u001b[0m\u001b[0;34m\u001b[0m\u001b[0m\n\u001b[0m",
      "\u001b[0;32m<ipython-input-23-d6af14c5ac6e>\u001b[0m in \u001b[0;36mget_file_from_url\u001b[0;34m(url, file_name, directory_name)\u001b[0m\n\u001b[1;32m      3\u001b[0m \u001b[0;32mdef\u001b[0m \u001b[0mget_file_from_url\u001b[0m\u001b[0;34m(\u001b[0m\u001b[0murl\u001b[0m\u001b[0;34m,\u001b[0m \u001b[0mfile_name\u001b[0m\u001b[0;34m,\u001b[0m \u001b[0mdirectory_name\u001b[0m\u001b[0;34m)\u001b[0m\u001b[0;34m:\u001b[0m\u001b[0;34m\u001b[0m\u001b[0;34m\u001b[0m\u001b[0m\n\u001b[1;32m      4\u001b[0m     \u001b[0mreq\u001b[0m \u001b[0;34m=\u001b[0m \u001b[0mrequests\u001b[0m\u001b[0;34m.\u001b[0m\u001b[0mget\u001b[0m\u001b[0;34m(\u001b[0m\u001b[0murl\u001b[0m\u001b[0;34m,\u001b[0m \u001b[0mverify\u001b[0m\u001b[0;34m=\u001b[0m\u001b[0;32mFalse\u001b[0m\u001b[0;34m)\u001b[0m\u001b[0;34m\u001b[0m\u001b[0;34m\u001b[0m\u001b[0m\n\u001b[0;32m----> 5\u001b[0;31m     \u001b[0;32mwith\u001b[0m \u001b[0mopen\u001b[0m\u001b[0;34m(\u001b[0m\u001b[0;34m\"{}/{}\"\u001b[0m\u001b[0;34m.\u001b[0m\u001b[0mformat\u001b[0m\u001b[0;34m(\u001b[0m\u001b[0mdirectory_name\u001b[0m\u001b[0;34m,\u001b[0m\u001b[0mfile_name\u001b[0m\u001b[0;34m)\u001b[0m\u001b[0;34m,\u001b[0m\u001b[0;34m'wb'\u001b[0m\u001b[0;34m)\u001b[0m \u001b[0;32mas\u001b[0m \u001b[0moutput_file\u001b[0m\u001b[0;34m:\u001b[0m\u001b[0;34m\u001b[0m\u001b[0;34m\u001b[0m\u001b[0m\n\u001b[0m\u001b[1;32m      6\u001b[0m         \u001b[0moutput_file\u001b[0m\u001b[0;34m.\u001b[0m\u001b[0mwrite\u001b[0m\u001b[0;34m(\u001b[0m\u001b[0mreq\u001b[0m\u001b[0;34m.\u001b[0m\u001b[0mcontent\u001b[0m\u001b[0;34m)\u001b[0m\u001b[0;34m\u001b[0m\u001b[0;34m\u001b[0m\u001b[0m\n\u001b[1;32m      7\u001b[0m \u001b[0;34m\u001b[0m\u001b[0m\n",
      "\u001b[0;31mFileNotFoundError\u001b[0m: [Errno 2] No such file or directory: 'test/test.xlsx'"
     ]
    }
   ],
   "source": [
    "import requests\n",
    "\n",
    "def get_file_from_url(url, file_name, directory_name):\n",
    "    req = requests.get(url, verify=False)\n",
    "    with open(\"{}/{}\".format(directory_name,file_name),'wb') as output_file:\n",
    "        output_file.write(req.content)\n",
    "        \n",
    "get_file_from_url('https://www.vendeeglobe.org/download-race-data/vendeeglobe_20201111_110000.xlsx', \"test.xlsx\", \"test\")\n"
   ]
  },
  {
   "cell_type": "code",
   "execution_count": 15,
   "id": "b33a6a58",
   "metadata": {},
   "outputs": [
    {
     "data": {
      "text/plain": [
       "False"
      ]
     },
     "execution_count": 15,
     "metadata": {},
     "output_type": "execute_result"
    }
   ],
   "source": [
    "import pylightxl as xl\n",
    "\n",
    "# readxl returns a pylightxl database that holds all worksheets and its data\n",
    "db = xl.readxl(fn='/Users/thomas/Desktop/vendeeglobe_20201111_110000.xlsx', ws=('fr'))\n",
    "db.ws(ws='fr').row(row=100) == \"\""
   ]
  },
  {
   "cell_type": "code",
   "execution_count": 16,
   "id": "038488ac",
   "metadata": {},
   "outputs": [
    {
     "data": {
      "text/plain": [
       "['fr']"
      ]
     },
     "execution_count": 16,
     "metadata": {},
     "output_type": "execute_result"
    }
   ],
   "source": [
    "db.ws_names"
   ]
  },
  {
   "cell_type": "code",
   "execution_count": 19,
   "id": "c1416533",
   "metadata": {},
   "outputs": [
    {
     "name": "stdout",
     "output_type": "stream",
     "text": [
      "['', '', '', '', '', '', '', '', '', '', '', '', '', '', '', '', '', '', '', '', '', '', '', '', '', '', '', '', '', '', '', '', '', '', '', '', '', '', '']\n",
      "['Rang\\nRank', '', '1', '2', '3', '4', '5', '6', '7', '8', '9', '10', '11', '12', '13', '14', '15', '16', '17', '18', '19', '20', '21', '22', '23', '24', '25', '26', '27', '28', '29', '30', '31', '32', '33', 'Traitements et calculs : Géovoile, un service Hauwell Studios', '', 'VMG : Velocity Made Good = projection du vecteur vitesse sur la route théorique. Ou plus simplement : vitesse de rapprochement au but.', \"DTF : Distance To Finish = Distance théorique la plus courte pour rejoindre l'arrivée; DTL : Distance To Leader = différence de distance au but avec le premier au classement\"]\n",
      "['Nat. / Voile\\nNat. / Sail', '', '\\nFRA 53', '\\nFRA 09', '\\nFRA 01', '\\nFRA 6', '\\nFRA 59', '\\nFRA 17', '\\nFRA 79', '\\nGBR 99', '\\nFRA 49', '\\nFRA 85', '\\nFRA 92', '\\nFRA 4', '\\nFRA 1000', '\\nFRA 109', '\\nFRA 18', '\\nFRA 71', '\\nFRA 30', '\\nMON 10', '\\nITA 34', '\\nESP 33', '\\nFRA 27', '\\nSUI 7', '\\nFRA 8', '\\nFRA 83', '\\nFRA 50', '\\nJPN 11', '\\nFRA 14', '\\nFIN 222', '\\nGBR 777', 'FR\\nFRA 69', '\\nFRA 72', 'FR\\nFRA 02', '\\nFRA 56', '', '', '', '']\n",
      "['Skipper / Bateau\\nSkipper / crew', '', 'Maxime Sorel\\nV And B Mayenne', 'Benjamin Dutreux\\nOMIA - Water Family', 'Jean Le Cam\\nYes we Cam !', \"Nicolas Troussel\\nCORUM L'Épargne\", 'Thomas Ruyant\\nLinkedOut', 'Yannick Bestaven\\nMaître Coq IV', 'Charlie Dalin\\nAPIVIA', 'Alex Thomson\\nHUGO BOSS', 'Romain Attanasio\\nPure - Best Western Hotels and Resorts', 'Kevin Escoffier\\nPRB', 'Stéphane Le Diraison\\nTime For Oceans', 'Sébastien Simon\\nARKEA PAPREC', 'Damien Seguin\\nGroupe APICIL', 'Samantha Davies\\nInitiatives - Coeur', 'Louis Burton\\nBureau Vallée 2', 'Manuel Cousin\\nGroupe Sétin', 'Clarisse Cremer\\nBanque Populaire X', 'Boris Herrmann\\nSeaexplorer - Yacht Club De Monaco', 'Giancarlo Pedote\\nPrysmian Group', 'Didac Costa\\nOne Planet One Ocean', 'Isabelle Joschke\\nMACSF', 'Alan Roura\\nLa Fabrique', 'Jérémie Beyou\\nCharal', 'Clément Giraud\\nCompagnie du lit - Jiliti', 'Miranda Merron\\nCampagne de France', 'Kojiro Shiraishi\\nDMG MORI Global One', 'Arnaud Boissieres\\nLa Mie Câline - Artisans Artipôle', 'Ari Huusela\\nStark', 'Pip Hare\\nMedallia', 'Sébastien Destremau\\nMerci', 'Alexia Barrier\\nTSE - 4myplanet', \"Armel Tripon\\nL'Occitane en Provence\", 'Fabrice Amedeo\\nNewrest - Art et Fenetres', '', '', '', '']\n",
      "['', 'Heure FR\\nHour FR', '12:30 FR\\n', '12:30 FR\\n', '12:30 FR\\n', '12:30 FR\\n', '12:30 FR\\n', '12:30 FR\\n', '12:30 FR\\n', '12:30 FR\\n', '12:30 FR\\n', '12:30 FR\\n', '12:30 FR\\n', '12:30 FR\\n', '12:30 FR\\n', '12:30 FR\\n', '12:30 FR\\n', '12:30 FR\\n', '12:30 FR\\n', '12:30 FR\\n', '12:30 FR\\n', '12:30 FR\\n', '12:30 FR\\n', '12:30 FR\\n', '12:30 FR\\n', '12:30 FR\\n', '12:30 FR\\n', '12:30 FR\\n', '12:30 FR\\n', '12:30 FR\\n', '12:30 FR\\n', '12:30 FR\\n', '12:30 FR\\n', '12:30 FR\\n', '12:30 FR\\n', '', '', '', '']\n",
      "['', 'Latitude\\nLatitude', \"40°40.11'N\", \"41°03.03'N\", \"41°04.77'N\", \"41°14.74'N\", \"41°42.21'N\", \"41°04.26'N\", \"41°35.48'N\", \"41°40.34'N\", \"41°21.99'N\", \"41°43.58'N\", \"41°02.24'N\", \"41°55.94'N\", \"41°32.82'N\", \"41°48.30'N\", \"42°03.03'N\", \"41°13.35'N\", \"42°05.15'N\", \"42°17.88'N\", \"42°06.85'N\", \"41°38.65'N\", \"41°50.70'N\", \"42°20.73'N\", \"42°31.84'N\", \"41°47.73'N\", \"42°38.83'N\", \"42°48.66'N\", \"42°31.22'N\", \"42°43.93'N\", \"42°56.05'N\", \"43°12.01'N\", \"43°29.00'N\", \"43°49.86'N\", \"45°10.00'N\", '', '', '', '']\n",
      "['', 'Longitude\\nLongitude', \"15°08.01'W\", \"15°27.00'W\", \"15°35.76'W\", \"16°19.37'W\", \"19°00.98'W\", \"14°57.51'W\", \"17°35.77'W\", \"17°44.59'W\", \"15°31.22'W\", \"17°35.09'W\", \"13°49.89'W\", \"18°43.88'W\", \"16°04.62'W\", \"17°12.28'W\", \"18°48.61'W\", \"13°17.44'W\", \"17°11.15'W\", \"18°10.74'W\", \"16°52.67'W\", \"13°15.35'W\", \"13°57.16'W\", \"16°17.69'W\", \"16°02.85'W\", \"12°08.76'W\", \"15°04.79'W\", \"15°39.56'W\", \"14°04.04'W\", \"14°48.59'W\", \"14°47.06'W\", \"13°42.85'W\", \"14°31.07'W\", \"15°16.50'W\", \"04°41.87'W\", '', '', '', '']\n",
      "['Depuis 30 minutes\\nSince 30 minutes', 'Cap\\nHeading', '278°', '230°', '211°', '245°', '217°', '278°', '213°', '208°', '233°', '213°', '266°', '220°', '232°', '219°', '208°', '258°', '217°', '203°', '218°', '274°', '267°', '206°', '54°', '177°', '219°', '192°', '209°', '214°', '192°', '184°', '207°', '145°', '255°', '', '', '', '']\n",
      "['', 'Vitesse\\nSpeed', '13.9 kts', '9.6 kts', '10.0 kts', '11.5 kts', '11.6 kts', '14.0 kts', '18.0 kts', '17.5 kts', '11.6 kts', '15.1 kts', '11.8 kts', '13.8 kts', '13.0 kts', '15.7 kts', '13.6 kts', '10.2 kts', '13.7 kts', '15.1 kts', '11.4 kts', '11.5 kts', '11.2 kts', '16.9 kts', '8.4 kts', '6.1 kts', '11.4 kts', '14.2 kts', '13.6 kts', '8.4 kts', '13.0 kts', '4.5 kts', '9.8 kts', '11.4 kts', '13.7 kts', '', '', '', '']\n",
      "['', 'VMG\\nVMG', '1.7 kts', '7.8 kts', '9.6 kts', '7.1 kts', '10.2 kts', '1.7 kts', '16.7 kts', '16.7 kts', '9.0 kts', '14.0 kts', '4.2 kts', '11.9 kts', '10.2 kts', '13.9 kts', '12.9 kts', '5.0 kts', '12.4 kts', '14.7 kts', '10.3 kts', '2.7 kts', '3.7 kts', '16.4 kts', '-6.3 kts', '5.7 kts', '10.4 kts', '14.2 kts', '13.3 kts', '7.9 kts', '12.9 kts', '4.4 kts', '9.6 kts', '7.5 kts', '13.2 kts', '', '', '', '']\n",
      "['', 'Distance\\nDistance', '6.9 nm', '4.8 nm', '5.0 nm', '5.8 nm', '5.8 nm', '7.0 nm', '9.0 nm', '26.3 nm', '5.8 nm', '7.6 nm', '5.9 nm', '6.9 nm', '6.5 nm', '7.8 nm', '6.8 nm', '5.1 nm', '6.9 nm', '7.6 nm', '5.7 nm', '5.8 nm', '5.6 nm', '8.4 nm', '4.2 nm', '3.1 nm', '5.7 nm', '7.1 nm', '6.8 nm', '4.2 nm', '6.5 nm', '2.3 nm', '4.9 nm', '5.7 nm', '6.8 nm', '', '', '', '']\n",
      "['Depuis le dernier classement\\nSince the the last report', 'Cap\\nHeading', '267°', '263°', '260°', '253°', '216°', '265°', '201°', '200°', '249°', '206°', '258°', '210°', '230°', '215°', '215°', '250°', '215°', '206°', '206°', '266°', '255°', '203°', '89°', '141°', '218°', '191°', '247°', '211°', '189°', '231°', '207°', '93°', '243°', '', '', '', '']\n",
      "['', 'Vitesse\\nSpeed', '13.2 kts', '10.8 kts', '9.9 kts', '9.3 kts', '14.6 kts', '15.1 kts', '17.4 kts', '16.8 kts', '9.0 kts', '14.8 kts', '11.3 kts', '15.4 kts', '12.9 kts', '15.2 kts', '14.2 kts', '10.0 kts', '11.6 kts', '14.6 kts', '13.9 kts', '11.4 kts', '11.3 kts', '15.8 kts', '7.2 kts', '9.7 kts', '9.0 kts', '14.1 kts', '9.7 kts', '8.4 kts', '11.7 kts', '4.0 kts', '7.7 kts', '10.0 kts', '15.1 kts', '', '', '', '']\n",
      "['', 'VMG\\nVMG', '4.3 kts', '4.2 kts', '4.2 kts', '4.8 kts', '13.0 kts', '5.4 kts', '17.2 kts', '16.5 kts', '5.3 kts', '14.3 kts', '5.6 kts', '14.5 kts', '10.4 kts', '14.1 kts', '12.9 kts', '6.1 kts', '10.6 kts', '14.1 kts', '13.5 kts', '4.3 kts', '6.0 kts', '15.6 kts', '-1.7 kts', '5.3 kts', '8.3 kts', '14.0 kts', '6.2 kts', '8.1 kts', '11.6 kts', '3.3 kts', '7.6 kts', '-1.8 kts', '15.0 kts', '', '', '', '']\n",
      "['', 'Distance\\nDistance', '39.7 nm', '32.4 nm', '29.6 nm', '27.8 nm', '43.8 nm', '45.2 nm', '52.3 nm', '58.6 nm', '26.9 nm', '44.4 nm', '34.0 nm', '46.2 nm', '38.7 nm', '45.7 nm', '42.7 nm', '30.0 nm', '34.7 nm', '43.8 nm', '41.6 nm', '34.1 nm', '34.0 nm', '47.4 nm', '21.7 nm', '29.2 nm', '27.0 nm', '42.2 nm', '29.0 nm', '25.2 nm', '35.0 nm', '11.9 nm', '23.2 nm', '29.9 nm', '45.2 nm', '', '', '', '']\n",
      "['Depuis 24 heures\\nSince 24 hours', 'Cap\\nHeading', '240°', '246°', '246°', '249°', '234°', '241°', '244°', '239°', '248°', '247°', '236°', '243°', '253°', '247°', '236°', '232°', '241°', '245°', '234°', '239°', '231°', '246°', '255°', '227°', '249°', '240°', '247°', '255°', '254°', '243°', '250°', '248°', '236°', '', '', '', '']\n",
      "['', 'Vitesse\\nSpeed', '11.6 kts', '11.6 kts', '11.8 kts', '12.9 kts', '13.8 kts', '11.9 kts', '12.5 kts', '13.0 kts', '11.7 kts', '12.8 kts', '10.2 kts', '13.9 kts', '12.2 kts', '12.6 kts', '13.3 kts', '9.1 kts', '11.9 kts', '12.8 kts', '11.6 kts', '8.5 kts', '8.1 kts', '11.8 kts', '9.1 kts', '7.1 kts', '10.1 kts', '10.2 kts', '10.6 kts', '10.6 kts', '9.9 kts', '8.3 kts', '8.9 kts', '5.2 kts', '6.1 kts', '', '', '', '']\n",
      "['', 'VMG\\nVMG', '9.1 kts', '8.4 kts', '8.4 kts', '8.7 kts', '11.0 kts', '9.4 kts', '8.9 kts', '9.9 kts', '8.1 kts', '8.7 kts', '8.5 kts', '9.9 kts', '7.7 kts', '8.6 kts', '10.3 kts', '7.9 kts', '8.9 kts', '8.8 kts', '9.5 kts', '6.8 kts', '7.0 kts', '8.3 kts', '5.2 kts', '6.4 kts', '6.8 kts', '7.9 kts', '7.7 kts', '6.5 kts', '6.0 kts', '6.2 kts', '5.9 kts', '3.3 kts', '6.0 kts', '', '', '', '']\n",
      "['', 'Distance\\nDistance', '278.7 nm', '278.7 nm', '283.3 nm', '310.4 nm', '330.2 nm', '286.1 nm', '300.2 nm', '311.6 nm', '280.9 nm', '306.1 nm', '244.7 nm', '332.5 nm', '293.9 nm', '302.6 nm', '318.2 nm', '218.5 nm', '286.1 nm', '307.7 nm', '279.5 nm', '204.5 nm', '194.9 nm', '282.2 nm', '218.7 nm', '170.8 nm', '242.4 nm', '245.6 nm', '255.4 nm', '254.8 nm', '237.2 nm', '198.6 nm', '214.0 nm', '123.9 nm', '145.7 nm', '', '', '', '']\n",
      "['DTF', '', '23697.7 nm', '23716.3 nm', '23716.3 nm', '23718.3 nm', '23722.2 nm', '23723.1 nm', '23726.6 nm', '23730.2 nm', '23733.9 nm', '23734.7 nm', '23735.2 nm', '23737.8 nm', '23738.5 nm', '23742.7 nm', '23744.2 nm', '23753.0 nm', '23759.4 nm', '23763.6 nm', '23763.8 nm', '23777.6 nm', '23780.1 nm', '23783.0 nm', '23796.3 nm', '23801.7 nm', '23813.3 nm', '23816.6 nm', '23817.6 nm', '23821.2 nm', '23833.2 nm', '23861.2 nm', '23868.1 nm', '23880.1 nm', '24153.1 nm', '', '', '', '']\n",
      "['DTL', '', '0.0 nm', '18.6 nm', '18.6 nm', '20.6 nm', '24.5 nm', '25.4 nm', '28.9 nm', '32.4 nm', '36.2 nm', '37.0 nm', '37.4 nm', '40.1 nm', '40.7 nm', '44.9 nm', '46.5 nm', '55.3 nm', '61.6 nm', '65.8 nm', '66.1 nm', '79.9 nm', '82.4 nm', '85.2 nm', '98.5 nm', '104.0 nm', '115.5 nm', '118.9 nm', '119.9 nm', '123.5 nm', '135.5 nm', '163.4 nm', '170.4 nm', '182.3 nm', '455.3 nm', '', '', '', '']\n"
     ]
    }
   ],
   "source": [
    "for col in db.ws(ws='fr').cols:\n",
    "    print(col[3:])"
   ]
  },
  {
   "cell_type": "code",
   "execution_count": 20,
   "id": "57ef6fe2",
   "metadata": {},
   "outputs": [
    {
     "ename": "FileNotFoundError",
     "evalue": "[Errno 2] No such file or directory: 'https://www.vendeeglobe.org/download-race-data/vendeeglobe_20201111_110000.xlsx'",
     "output_type": "error",
     "traceback": [
      "\u001b[0;31m---------------------------------------------------------------------------\u001b[0m",
      "\u001b[0;31mFileNotFoundError\u001b[0m                         Traceback (most recent call last)",
      "\u001b[0;32m<ipython-input-20-0f347b2ed8b6>\u001b[0m in \u001b[0;36m<module>\u001b[0;34m\u001b[0m\n\u001b[0;32m----> 1\u001b[0;31m \u001b[0;32mwith\u001b[0m \u001b[0mopen\u001b[0m\u001b[0;34m(\u001b[0m\u001b[0;34m'https://www.vendeeglobe.org/download-race-data/vendeeglobe_20201111_110000.xlsx'\u001b[0m\u001b[0;34m,\u001b[0m \u001b[0;34m'rb'\u001b[0m\u001b[0;34m)\u001b[0m \u001b[0;32mas\u001b[0m \u001b[0mf\u001b[0m\u001b[0;34m:\u001b[0m\u001b[0;34m\u001b[0m\u001b[0;34m\u001b[0m\u001b[0m\n\u001b[0m\u001b[1;32m      2\u001b[0m     \u001b[0mdb\u001b[0m \u001b[0;34m=\u001b[0m \u001b[0mxl\u001b[0m\u001b[0;34m.\u001b[0m\u001b[0mreadxl\u001b[0m\u001b[0;34m(\u001b[0m\u001b[0mf\u001b[0m\u001b[0;34m)\u001b[0m\u001b[0;34m\u001b[0m\u001b[0;34m\u001b[0m\u001b[0m\n",
      "\u001b[0;31mFileNotFoundError\u001b[0m: [Errno 2] No such file or directory: 'https://www.vendeeglobe.org/download-race-data/vendeeglobe_20201111_110000.xlsx'"
     ]
    }
   ],
   "source": [
    "with open('https://www.vendeeglobe.org/download-race-data/vendeeglobe_20201111_110000.xlsx', 'rb') as f:\n",
    "    db = xl.readxl(f)"
   ]
  },
  {
   "cell_type": "code",
   "execution_count": 21,
   "id": "3d09cc65",
   "metadata": {},
   "outputs": [
    {
     "data": {
      "text/plain": [
       "True"
      ]
     },
     "execution_count": 21,
     "metadata": {},
     "output_type": "execute_result"
    }
   ],
   "source": []
  },
  {
   "cell_type": "code",
   "execution_count": null,
   "id": "ba7c8fac",
   "metadata": {},
   "outputs": [],
   "source": []
  }
 ],
 "metadata": {
  "kernelspec": {
   "display_name": "Python 3",
   "language": "python",
   "name": "python3"
  },
  "language_info": {
   "codemirror_mode": {
    "name": "ipython",
    "version": 3
   },
   "file_extension": ".py",
   "mimetype": "text/x-python",
   "name": "python",
   "nbconvert_exporter": "python",
   "pygments_lexer": "ipython3",
   "version": "3.8.8"
  }
 },
 "nbformat": 4,
 "nbformat_minor": 5
}
